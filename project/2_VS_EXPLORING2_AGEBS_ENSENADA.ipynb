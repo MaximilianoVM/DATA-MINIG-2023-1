{
 "cells": [
  {
   "cell_type": "code",
   "execution_count": 107,
   "metadata": {},
   "outputs": [],
   "source": [
    "import numpy as np\n",
    "import pandas as pd\n",
    "import matplotlib.pyplot as plts\n",
    "\n",
    "%matplotlib inline"
   ]
  },
  {
   "cell_type": "code",
   "execution_count": 108,
   "metadata": {},
   "outputs": [],
   "source": [
    "df10 = pd.read_csv('DATA/ENS_CLEAN_10.csv')\n",
    "df20 = pd.read_csv('DATA/ENS_CLEAN_20.csv')\n"
   ]
  },
  {
   "attachments": {},
   "cell_type": "markdown",
   "metadata": {},
   "source": [
    "necesitamos edad de 0 a 5, entonces sumamos 0 a 2 y 3 a 5"
   ]
  },
  {
   "cell_type": "code",
   "execution_count": 109,
   "metadata": {},
   "outputs": [],
   "source": [
    "#10: sumamos los valores de los campos de edad \n",
    "df10['P_0A5'] = df10['P_0A2'] + df10['P_3A5']\n",
    "#borramos los sumados \n",
    "df10 = df10.drop(['P_0A2', 'P_3A5'], axis=1)\n",
    "\n",
    "#20: sumamos los valores de los campos de edad\n",
    "df20['P_0A5'] = df20['P_0A2'] + df20['P_3A5']\n",
    "#borramos los sumados\n",
    "df20 = df20.drop(['P_0A2', 'P_3A5'], axis=1)"
   ]
  },
  {
   "cell_type": "code",
   "execution_count": 110,
   "metadata": {},
   "outputs": [
    {
     "data": {
      "text/html": [
       "<div>\n",
       "<style scoped>\n",
       "    .dataframe tbody tr th:only-of-type {\n",
       "        vertical-align: middle;\n",
       "    }\n",
       "\n",
       "    .dataframe tbody tr th {\n",
       "        vertical-align: top;\n",
       "    }\n",
       "\n",
       "    .dataframe thead th {\n",
       "        text-align: right;\n",
       "    }\n",
       "</style>\n",
       "<table border=\"1\" class=\"dataframe\">\n",
       "  <thead>\n",
       "    <tr style=\"text-align: right;\">\n",
       "      <th></th>\n",
       "      <th>index</th>\n",
       "      <th>NOM_MUN</th>\n",
       "      <th>LOC</th>\n",
       "      <th>NOM_LOC</th>\n",
       "      <th>AGEB</th>\n",
       "      <th>MZA</th>\n",
       "      <th>P_TOTAL</th>\n",
       "      <th>POB65_MAS</th>\n",
       "      <th>GRAPROES</th>\n",
       "      <th>PROM_HNV</th>\n",
       "      <th>VIVTOT</th>\n",
       "      <th>PRO_OCUP_C</th>\n",
       "      <th>PROM_OCUP</th>\n",
       "      <th>VPH_PC</th>\n",
       "      <th>OTRAENT</th>\n",
       "      <th>P_0A5</th>\n",
       "    </tr>\n",
       "  </thead>\n",
       "  <tbody>\n",
       "    <tr>\n",
       "      <th>0</th>\n",
       "      <td>4</td>\n",
       "      <td>Ensenada</td>\n",
       "      <td>1</td>\n",
       "      <td>Ensenada</td>\n",
       "      <td>0435</td>\n",
       "      <td>1</td>\n",
       "      <td>48.0</td>\n",
       "      <td>4.0</td>\n",
       "      <td>8.31</td>\n",
       "      <td>2.50</td>\n",
       "      <td>15.0</td>\n",
       "      <td>1.02</td>\n",
       "      <td>3.43</td>\n",
       "      <td>7.0</td>\n",
       "      <td>16.0</td>\n",
       "      <td>6.0</td>\n",
       "    </tr>\n",
       "    <tr>\n",
       "      <th>1</th>\n",
       "      <td>5</td>\n",
       "      <td>Ensenada</td>\n",
       "      <td>1</td>\n",
       "      <td>Ensenada</td>\n",
       "      <td>0435</td>\n",
       "      <td>3</td>\n",
       "      <td>41.0</td>\n",
       "      <td>6.0</td>\n",
       "      <td>9.48</td>\n",
       "      <td>2.40</td>\n",
       "      <td>16.0</td>\n",
       "      <td>0.85</td>\n",
       "      <td>3.15</td>\n",
       "      <td>4.0</td>\n",
       "      <td>16.0</td>\n",
       "      <td>3.0</td>\n",
       "    </tr>\n",
       "    <tr>\n",
       "      <th>2</th>\n",
       "      <td>6</td>\n",
       "      <td>Ensenada</td>\n",
       "      <td>1</td>\n",
       "      <td>Ensenada</td>\n",
       "      <td>0435</td>\n",
       "      <td>4</td>\n",
       "      <td>41.0</td>\n",
       "      <td>4.0</td>\n",
       "      <td>10.29</td>\n",
       "      <td>1.88</td>\n",
       "      <td>11.0</td>\n",
       "      <td>0.87</td>\n",
       "      <td>4.10</td>\n",
       "      <td>7.0</td>\n",
       "      <td>16.0</td>\n",
       "      <td>3.0</td>\n",
       "    </tr>\n",
       "    <tr>\n",
       "      <th>3</th>\n",
       "      <td>7</td>\n",
       "      <td>Ensenada</td>\n",
       "      <td>1</td>\n",
       "      <td>Ensenada</td>\n",
       "      <td>0435</td>\n",
       "      <td>6</td>\n",
       "      <td>54.0</td>\n",
       "      <td>4.0</td>\n",
       "      <td>10.24</td>\n",
       "      <td>1.82</td>\n",
       "      <td>23.0</td>\n",
       "      <td>0.72</td>\n",
       "      <td>3.18</td>\n",
       "      <td>10.0</td>\n",
       "      <td>17.0</td>\n",
       "      <td>3.0</td>\n",
       "    </tr>\n",
       "    <tr>\n",
       "      <th>4</th>\n",
       "      <td>8</td>\n",
       "      <td>Ensenada</td>\n",
       "      <td>1</td>\n",
       "      <td>Ensenada</td>\n",
       "      <td>0435</td>\n",
       "      <td>7</td>\n",
       "      <td>54.0</td>\n",
       "      <td>7.0</td>\n",
       "      <td>9.85</td>\n",
       "      <td>2.33</td>\n",
       "      <td>17.0</td>\n",
       "      <td>0.78</td>\n",
       "      <td>3.38</td>\n",
       "      <td>7.0</td>\n",
       "      <td>18.0</td>\n",
       "      <td>6.0</td>\n",
       "    </tr>\n",
       "  </tbody>\n",
       "</table>\n",
       "</div>"
      ],
      "text/plain": [
       "   index   NOM_MUN  LOC   NOM_LOC  AGEB  MZA  P_TOTAL  POB65_MAS  GRAPROES  \\\n",
       "0      4  Ensenada    1  Ensenada  0435    1     48.0        4.0      8.31   \n",
       "1      5  Ensenada    1  Ensenada  0435    3     41.0        6.0      9.48   \n",
       "2      6  Ensenada    1  Ensenada  0435    4     41.0        4.0     10.29   \n",
       "3      7  Ensenada    1  Ensenada  0435    6     54.0        4.0     10.24   \n",
       "4      8  Ensenada    1  Ensenada  0435    7     54.0        7.0      9.85   \n",
       "\n",
       "   PROM_HNV  VIVTOT  PRO_OCUP_C  PROM_OCUP  VPH_PC  OTRAENT  P_0A5  \n",
       "0      2.50    15.0        1.02       3.43     7.0     16.0    6.0  \n",
       "1      2.40    16.0        0.85       3.15     4.0     16.0    3.0  \n",
       "2      1.88    11.0        0.87       4.10     7.0     16.0    3.0  \n",
       "3      1.82    23.0        0.72       3.18    10.0     17.0    3.0  \n",
       "4      2.33    17.0        0.78       3.38     7.0     18.0    6.0  "
      ]
     },
     "execution_count": 110,
     "metadata": {},
     "output_type": "execute_result"
    }
   ],
   "source": [
    "df10.head()"
   ]
  },
  {
   "cell_type": "code",
   "execution_count": 111,
   "metadata": {},
   "outputs": [
    {
     "name": "stdout",
     "output_type": "stream",
     "text": [
      "<class 'pandas.core.frame.DataFrame'>\n",
      "RangeIndex: 5255 entries, 0 to 5254\n",
      "Data columns (total 16 columns):\n",
      " #   Column      Non-Null Count  Dtype  \n",
      "---  ------      --------------  -----  \n",
      " 0   index       5255 non-null   int64  \n",
      " 1   NOM_MUN     5255 non-null   object \n",
      " 2   LOC         5255 non-null   int64  \n",
      " 3   NOM_LOC     5255 non-null   object \n",
      " 4   AGEB        5255 non-null   object \n",
      " 5   MZA         5255 non-null   int64  \n",
      " 6   P_TOTAL     5255 non-null   float64\n",
      " 7   POB65_MAS   5255 non-null   float64\n",
      " 8   GRAPROES    5255 non-null   float64\n",
      " 9   PROM_HNV    5255 non-null   float64\n",
      " 10  VIVTOT      5255 non-null   float64\n",
      " 11  PRO_OCUP_C  5255 non-null   float64\n",
      " 12  PROM_OCUP   5255 non-null   float64\n",
      " 13  VPH_PC      5255 non-null   float64\n",
      " 14  OTRAENT     5255 non-null   float64\n",
      " 15  P_0A5       5255 non-null   float64\n",
      "dtypes: float64(10), int64(3), object(3)\n",
      "memory usage: 657.0+ KB\n"
     ]
    }
   ],
   "source": [
    "df10.info()"
   ]
  },
  {
   "attachments": {},
   "cell_type": "markdown",
   "metadata": {},
   "source": [
    "recordemos que nuestro analisis es por agebs, entonces agrupamos por ageb"
   ]
  },
  {
   "cell_type": "code",
   "execution_count": 112,
   "metadata": {},
   "outputs": [
    {
     "data": {
      "text/plain": [
       "{'index': 'first',\n",
       " 'NOM_MUN': 'first',\n",
       " 'LOC': 'first',\n",
       " 'NOM_LOC': 'first',\n",
       " 'AGEB': 'first',\n",
       " 'MZA': 'first',\n",
       " 'P_TOTAL': 'sum',\n",
       " 'POB65_MAS': 'sum',\n",
       " 'GRAPROES': 'mean',\n",
       " 'PROM_HNV': 'mean',\n",
       " 'VIVTOT': 'sum',\n",
       " 'PRO_OCUP_C': 'mean',\n",
       " 'PROM_OCUP': 'mean',\n",
       " 'VPH_PC': 'sum',\n",
       " 'OTRAENT': 'sum',\n",
       " 'P_0A5': 'sum'}"
      ]
     },
     "execution_count": 112,
     "metadata": {},
     "output_type": "execute_result"
    }
   ],
   "source": [
    "\n",
    "#make a dictionary of the columns being the keys, if Dtype is an object, value is 'first', else is 'sum' \n",
    "\n",
    "#agg_dict = {col: 'sum' if df10[col].dtype == np.dtype('float64') else 'first' for col in df10.columns.tolist()}\n",
    "\n",
    "agg_dict = {}\n",
    "\n",
    "#le ponemos suma a todos los que no sean object\n",
    "for col in df10.columns.tolist():\n",
    "    if df10[col].dtype == np.dtype('float64'):\n",
    "        agg_dict[col] = 'sum'\n",
    "    else:\n",
    "        agg_dict[col] = 'first'\n",
    "\n",
    "#les ponemos media a los que correspondan\n",
    "media = ['GRAPROES', 'PROM_HNV', 'PRO_OCUP_C', 'PROM_OCUP']\n",
    "\n",
    "for col in media:\n",
    "    agg_dict[col] = 'mean'\n",
    "\n",
    "agg_dict\n",
    "\n"
   ]
  },
  {
   "attachments": {},
   "cell_type": "markdown",
   "metadata": {},
   "source": [
    "aplicamos las funciones"
   ]
  },
  {
   "cell_type": "code",
   "execution_count": 113,
   "metadata": {},
   "outputs": [],
   "source": [
    "df10_agebs = df10.groupby('AGEB', as_index=False).agg(agg_dict)\n",
    "df20_agebs = df20.groupby('AGEB', as_index=False).agg(agg_dict)"
   ]
  },
  {
   "attachments": {},
   "cell_type": "markdown",
   "metadata": {},
   "source": [
    "borramos columnas redundantes, todo es LOCALIDAD ENSENADA"
   ]
  },
  {
   "cell_type": "code",
   "execution_count": 114,
   "metadata": {},
   "outputs": [],
   "source": [
    "df10_agebs = df10_agebs.drop(columns=['NOM_MUN','LOC'])\n",
    "df20_agebs = df20_agebs.drop(columns=['NOM_MUN','LOC'])"
   ]
  },
  {
   "cell_type": "code",
   "execution_count": 115,
   "metadata": {},
   "outputs": [
    {
     "data": {
      "text/plain": [
       "190"
      ]
     },
     "execution_count": 115,
     "metadata": {},
     "output_type": "execute_result"
    }
   ],
   "source": [
    "df10_agebs['AGEB'].count()"
   ]
  },
  {
   "cell_type": "code",
   "execution_count": 116,
   "metadata": {},
   "outputs": [
    {
     "data": {
      "text/plain": [
       "220"
      ]
     },
     "execution_count": 116,
     "metadata": {},
     "output_type": "execute_result"
    }
   ],
   "source": [
    "df20_agebs['AGEB'].count()"
   ]
  },
  {
   "attachments": {},
   "cell_type": "markdown",
   "metadata": {},
   "source": [
    "tenemos 190 y 220 AGEBS entre 2010 y 2020 respectivamente"
   ]
  },
  {
   "cell_type": "code",
   "execution_count": 117,
   "metadata": {},
   "outputs": [
    {
     "name": "stdout",
     "output_type": "stream",
     "text": [
      "en 20 no en 10:  ['0026', '0030', '0083', '0098', '0100', '0115', '012A', '0134', '0149', '0153', '0168', '0172', '0187', '0191', '0204', '2060', '2075', '208A', '2107', '2111', '2126', '2145', '215A', '2164', '2179', '2183', '2198', '2234', '2431', '2446']\n",
      "en 10 no en 20 []\n",
      "cuantos en 20 no en 10:  30\n"
     ]
    }
   ],
   "source": [
    "#identifying in 2020 the agebs that are not in 2010\n",
    "agebs_20 = df20_agebs['AGEB'].tolist()\n",
    "agebs_10 = df10_agebs['AGEB'].tolist()\n",
    "\n",
    "agebs_20_not_in_10 = [ageb for ageb in agebs_20 if ageb not in agebs_10]\n",
    "print('en 20 no en 10: ', agebs_20_not_in_10)\n",
    "\n",
    "#identifying in 2010 the agebs that are not in 2020\n",
    "agebs_10_not_in_20 = [ageb for ageb in agebs_10 if ageb not in agebs_20]\n",
    "print('en 10 no en 20',agebs_10_not_in_20)\n",
    "\n",
    "#cuantos? \n",
    "print('cuantos en 20 no en 10: ', len(agebs_20_not_in_10))"
   ]
  },
  {
   "attachments": {},
   "cell_type": "markdown",
   "metadata": {},
   "source": [
    "como se ven nuestros dataframes? "
   ]
  },
  {
   "cell_type": "code",
   "execution_count": 118,
   "metadata": {},
   "outputs": [
    {
     "data": {
      "text/html": [
       "<div>\n",
       "<style scoped>\n",
       "    .dataframe tbody tr th:only-of-type {\n",
       "        vertical-align: middle;\n",
       "    }\n",
       "\n",
       "    .dataframe tbody tr th {\n",
       "        vertical-align: top;\n",
       "    }\n",
       "\n",
       "    .dataframe thead th {\n",
       "        text-align: right;\n",
       "    }\n",
       "</style>\n",
       "<table border=\"1\" class=\"dataframe\">\n",
       "  <thead>\n",
       "    <tr style=\"text-align: right;\">\n",
       "      <th></th>\n",
       "      <th>index</th>\n",
       "      <th>NOM_LOC</th>\n",
       "      <th>AGEB</th>\n",
       "      <th>MZA</th>\n",
       "      <th>P_TOTAL</th>\n",
       "      <th>POB65_MAS</th>\n",
       "      <th>GRAPROES</th>\n",
       "      <th>PROM_HNV</th>\n",
       "      <th>VIVTOT</th>\n",
       "      <th>PRO_OCUP_C</th>\n",
       "      <th>PROM_OCUP</th>\n",
       "      <th>VPH_PC</th>\n",
       "      <th>OTRAENT</th>\n",
       "      <th>P_0A5</th>\n",
       "    </tr>\n",
       "  </thead>\n",
       "  <tbody>\n",
       "    <tr>\n",
       "      <th>0</th>\n",
       "      <td>4</td>\n",
       "      <td>Ensenada</td>\n",
       "      <td>0435</td>\n",
       "      <td>1</td>\n",
       "      <td>3632.0</td>\n",
       "      <td>325.0</td>\n",
       "      <td>9.617302</td>\n",
       "      <td>2.193333</td>\n",
       "      <td>1321.0</td>\n",
       "      <td>0.853016</td>\n",
       "      <td>3.352540</td>\n",
       "      <td>584.0</td>\n",
       "      <td>1241.0</td>\n",
       "      <td>419.0</td>\n",
       "    </tr>\n",
       "    <tr>\n",
       "      <th>1</th>\n",
       "      <td>68</td>\n",
       "      <td>Ensenada</td>\n",
       "      <td>044A</td>\n",
       "      <td>1</td>\n",
       "      <td>1539.0</td>\n",
       "      <td>224.0</td>\n",
       "      <td>9.569643</td>\n",
       "      <td>2.264286</td>\n",
       "      <td>549.0</td>\n",
       "      <td>0.750714</td>\n",
       "      <td>3.152143</td>\n",
       "      <td>254.0</td>\n",
       "      <td>478.0</td>\n",
       "      <td>135.0</td>\n",
       "    </tr>\n",
       "    <tr>\n",
       "      <th>2</th>\n",
       "      <td>97</td>\n",
       "      <td>Ensenada</td>\n",
       "      <td>0454</td>\n",
       "      <td>1</td>\n",
       "      <td>2211.0</td>\n",
       "      <td>188.0</td>\n",
       "      <td>10.994717</td>\n",
       "      <td>1.929057</td>\n",
       "      <td>742.0</td>\n",
       "      <td>0.661887</td>\n",
       "      <td>3.145849</td>\n",
       "      <td>438.0</td>\n",
       "      <td>760.0</td>\n",
       "      <td>118.0</td>\n",
       "    </tr>\n",
       "  </tbody>\n",
       "</table>\n",
       "</div>"
      ],
      "text/plain": [
       "   index   NOM_LOC  AGEB  MZA  P_TOTAL  POB65_MAS   GRAPROES  PROM_HNV  \\\n",
       "0      4  Ensenada  0435    1   3632.0      325.0   9.617302  2.193333   \n",
       "1     68  Ensenada  044A    1   1539.0      224.0   9.569643  2.264286   \n",
       "2     97  Ensenada  0454    1   2211.0      188.0  10.994717  1.929057   \n",
       "\n",
       "   VIVTOT  PRO_OCUP_C  PROM_OCUP  VPH_PC  OTRAENT  P_0A5  \n",
       "0  1321.0    0.853016   3.352540   584.0   1241.0  419.0  \n",
       "1   549.0    0.750714   3.152143   254.0    478.0  135.0  \n",
       "2   742.0    0.661887   3.145849   438.0    760.0  118.0  "
      ]
     },
     "execution_count": 118,
     "metadata": {},
     "output_type": "execute_result"
    }
   ],
   "source": [
    "df10_agebs.head(3)"
   ]
  },
  {
   "cell_type": "code",
   "execution_count": 119,
   "metadata": {},
   "outputs": [
    {
     "data": {
      "text/html": [
       "<div>\n",
       "<style scoped>\n",
       "    .dataframe tbody tr th:only-of-type {\n",
       "        vertical-align: middle;\n",
       "    }\n",
       "\n",
       "    .dataframe tbody tr th {\n",
       "        vertical-align: top;\n",
       "    }\n",
       "\n",
       "    .dataframe thead th {\n",
       "        text-align: right;\n",
       "    }\n",
       "</style>\n",
       "<table border=\"1\" class=\"dataframe\">\n",
       "  <thead>\n",
       "    <tr style=\"text-align: right;\">\n",
       "      <th></th>\n",
       "      <th>index</th>\n",
       "      <th>NOM_LOC</th>\n",
       "      <th>AGEB</th>\n",
       "      <th>MZA</th>\n",
       "      <th>P_TOTAL</th>\n",
       "      <th>POB65_MAS</th>\n",
       "      <th>GRAPROES</th>\n",
       "      <th>PROM_HNV</th>\n",
       "      <th>VIVTOT</th>\n",
       "      <th>PRO_OCUP_C</th>\n",
       "      <th>PROM_OCUP</th>\n",
       "      <th>VPH_PC</th>\n",
       "      <th>OTRAENT</th>\n",
       "      <th>P_0A5</th>\n",
       "    </tr>\n",
       "  </thead>\n",
       "  <tbody>\n",
       "    <tr>\n",
       "      <th>0</th>\n",
       "      <td>4</td>\n",
       "      <td>Ensenada</td>\n",
       "      <td>0026</td>\n",
       "      <td>1</td>\n",
       "      <td>64.0</td>\n",
       "      <td>16.0</td>\n",
       "      <td>8.920000</td>\n",
       "      <td>2.610000</td>\n",
       "      <td>26.0</td>\n",
       "      <td>1.010000</td>\n",
       "      <td>3.016667</td>\n",
       "      <td>27.0</td>\n",
       "      <td>57.0</td>\n",
       "      <td>0.0</td>\n",
       "    </tr>\n",
       "    <tr>\n",
       "      <th>1</th>\n",
       "      <td>8</td>\n",
       "      <td>Ensenada</td>\n",
       "      <td>0030</td>\n",
       "      <td>1</td>\n",
       "      <td>154.0</td>\n",
       "      <td>8.0</td>\n",
       "      <td>14.757778</td>\n",
       "      <td>1.202222</td>\n",
       "      <td>165.0</td>\n",
       "      <td>0.596667</td>\n",
       "      <td>2.431111</td>\n",
       "      <td>86.0</td>\n",
       "      <td>127.0</td>\n",
       "      <td>0.0</td>\n",
       "    </tr>\n",
       "    <tr>\n",
       "      <th>2</th>\n",
       "      <td>27</td>\n",
       "      <td>Ensenada</td>\n",
       "      <td>0083</td>\n",
       "      <td>1</td>\n",
       "      <td>1498.0</td>\n",
       "      <td>24.0</td>\n",
       "      <td>9.802222</td>\n",
       "      <td>1.415926</td>\n",
       "      <td>565.0</td>\n",
       "      <td>0.834815</td>\n",
       "      <td>2.568889</td>\n",
       "      <td>186.0</td>\n",
       "      <td>516.0</td>\n",
       "      <td>193.0</td>\n",
       "    </tr>\n",
       "  </tbody>\n",
       "</table>\n",
       "</div>"
      ],
      "text/plain": [
       "   index   NOM_LOC  AGEB  MZA  P_TOTAL  POB65_MAS   GRAPROES  PROM_HNV  \\\n",
       "0      4  Ensenada  0026    1     64.0       16.0   8.920000  2.610000   \n",
       "1      8  Ensenada  0030    1    154.0        8.0  14.757778  1.202222   \n",
       "2     27  Ensenada  0083    1   1498.0       24.0   9.802222  1.415926   \n",
       "\n",
       "   VIVTOT  PRO_OCUP_C  PROM_OCUP  VPH_PC  OTRAENT  P_0A5  \n",
       "0    26.0    1.010000   3.016667    27.0     57.0    0.0  \n",
       "1   165.0    0.596667   2.431111    86.0    127.0    0.0  \n",
       "2   565.0    0.834815   2.568889   186.0    516.0  193.0  "
      ]
     },
     "execution_count": 119,
     "metadata": {},
     "output_type": "execute_result"
    }
   ],
   "source": [
    "df20_agebs.head(3)"
   ]
  },
  {
   "cell_type": "code",
   "execution_count": 120,
   "metadata": {},
   "outputs": [
    {
     "data": {
      "text/plain": [
       "Index(['index', 'NOM_LOC', 'AGEB', 'MZA', 'P_TOTAL', 'POB65_MAS', 'GRAPROES',\n",
       "       'PROM_HNV', 'VIVTOT', 'PRO_OCUP_C', 'PROM_OCUP', 'VPH_PC', 'OTRAENT',\n",
       "       'P_0A5'],\n",
       "      dtype='object')"
      ]
     },
     "execution_count": 120,
     "metadata": {},
     "output_type": "execute_result"
    }
   ],
   "source": [
    "df10_agebs.columns"
   ]
  },
  {
   "attachments": {},
   "cell_type": "markdown",
   "metadata": {},
   "source": [
    "DESCARGAMOS"
   ]
  },
  {
   "cell_type": "code",
   "execution_count": 121,
   "metadata": {},
   "outputs": [
    {
     "name": "stdout",
     "output_type": "stream",
     "text": [
      "True     172\n",
      "False     18\n",
      "Name: AGEB, dtype: int64\n",
      "True     199\n",
      "False     21\n",
      "Name: AGEB, dtype: int64\n"
     ]
    }
   ],
   "source": [
    "# keep only the rows with digits in the AGEB column\n",
    "\n",
    "#how many agebs had letters in 2010? \n",
    "print(df10_agebs['AGEB'].str.isdigit().value_counts() )\n",
    "\n",
    "#how many agebs had letters in 2020?\n",
    "print(df20_agebs['AGEB'].str.isdigit().value_counts() )\n",
    "\n",
    "#do it with df10_agebs and df20_agebs\n",
    "df10_agebs = df10_agebs[df10_agebs['AGEB'].str.isdigit()]\n",
    "df20_agebs = df20_agebs[df20_agebs['AGEB'].str.isdigit()]\n"
   ]
  },
  {
   "cell_type": "code",
   "execution_count": 122,
   "metadata": {},
   "outputs": [],
   "source": [
    "\n",
    "# save the cleaned data as a CSV file\n",
    "df10_agebs.to_csv('DATA/ENS_AGEBS_10.csv', index=False)\n",
    "df20_agebs.to_csv('DATA/ENS_AGEBS_20.csv', index=False)\n"
   ]
  },
  {
   "attachments": {},
   "cell_type": "markdown",
   "metadata": {},
   "source": [
    "voy a determinar los rangos de cada variable para ponerla en mi tabla de la propuesta en latex"
   ]
  },
  {
   "cell_type": "code",
   "execution_count": 123,
   "metadata": {},
   "outputs": [
    {
     "name": "stdout",
     "output_type": "stream",
     "text": [
      "index 4 5447\n",
      "NOM_LOC Ensenada Ensenada\n",
      "AGEB 0435 9903\n",
      "MZA 1 20\n",
      "P_TOTAL 0.0 5628.0\n",
      "POB65_MAS 0.0 375.0\n",
      "GRAPROES 0.0 15.273333333333333\n",
      "PROM_HNV 0.0 2.91\n",
      "VIVTOT 0.0 1849.0\n",
      "PRO_OCUP_C 0.0 3.595\n",
      "PROM_OCUP 0.0 4.605\n",
      "VPH_PC 0.0 992.0\n",
      "OTRAENT 0.0 1987.0\n",
      "P_0A5 0.0 557.0\n"
     ]
    }
   ],
   "source": [
    "#rango de cada columna\n",
    "for col in df10_agebs.columns:\n",
    "    print(col, df10_agebs[col].min(), df10_agebs[col].max())"
   ]
  },
  {
   "cell_type": "code",
   "execution_count": 124,
   "metadata": {},
   "outputs": [
    {
     "data": {
      "text/plain": [
       "<AxesSubplot: xlabel='GRAPROES', ylabel='P_TOTAL'>"
      ]
     },
     "execution_count": 124,
     "metadata": {},
     "output_type": "execute_result"
    },
    {
     "data": {
      "image/png": "[encoded data removed]",
      "text/plain": [
       "<Figure size 640x480 with 1 Axes>"
      ]
     },
     "metadata": {},
     "output_type": "display_data"
    }
   ],
   "source": [
    "#scatter plot P_TOTAL vs GRAPROES \n",
    "df10_agebs.plot.scatter(y='P_TOTAL', x='GRAPROES')"
   ]
  },
  {
   "cell_type": "code",
   "execution_count": 125,
   "metadata": {},
   "outputs": [
    {
     "data": {
      "text/plain": [
       "<AxesSubplot: >"
      ]
     },
     "execution_count": 125,
     "metadata": {},
     "output_type": "execute_result"
    },
    {
     "data": {
      "image/png": "[encoded data removed]",
      "text/plain": [
       "<Figure size 640x480 with 1 Axes>"
      ]
     },
     "metadata": {},
     "output_type": "display_data"
    }
   ],
   "source": [
    "#histograma de P_TOTAL\n",
    "df10_agebs['P_TOTAL'].hist()\n"
   ]
  },
  {
   "cell_type": "code",
   "execution_count": 126,
   "metadata": {},
   "outputs": [
    {
     "name": "stderr",
     "output_type": "stream",
     "text": [
      "C:\\Users\\Usuario\\AppData\\Local\\Temp\\ipykernel_15792\\1375557824.py:2: FutureWarning: The default value of numeric_only in DataFrameGroupBy.mean is deprecated. In a future version, numeric_only will default to False. Either specify numeric_only or select only columns which should be valid for the function.\n",
      "  mean10 = df10_agebs.groupby('AGEB').mean().reset_index()\n",
      "C:\\Users\\Usuario\\AppData\\Local\\Temp\\ipykernel_15792\\1375557824.py:3: FutureWarning: The default value of numeric_only in DataFrameGroupBy.mean is deprecated. In a future version, numeric_only will default to False. Either specify numeric_only or select only columns which should be valid for the function.\n",
      "  mean20 = df20_agebs.groupby('AGEB').mean().reset_index()\n",
      "C:\\Users\\Usuario\\AppData\\Roaming\\Python\\Python311\\site-packages\\matplotlib\\transforms.py:2047: RuntimeWarning: invalid value encountered in double_scalars\n",
      "  self._mtx[1, 2] += ty\n",
      "C:\\Users\\Usuario\\AppData\\Roaming\\Python\\Python311\\site-packages\\matplotlib\\transforms.py:2047: RuntimeWarning: invalid value encountered in double_scalars\n",
      "  self._mtx[1, 2] += ty\n",
      "C:\\Users\\Usuario\\AppData\\Roaming\\Python\\Python311\\site-packages\\matplotlib\\transforms.py:383: RuntimeWarning: invalid value encountered in double_scalars\n",
      "  return (x0, y0, x1 - x0, y1 - y0)\n",
      "C:\\Users\\Usuario\\AppData\\Roaming\\Python\\Python311\\site-packages\\matplotlib\\transforms.py:2047: RuntimeWarning: invalid value encountered in double_scalars\n",
      "  self._mtx[1, 2] += ty\n",
      "C:\\Users\\Usuario\\AppData\\Roaming\\Python\\Python311\\site-packages\\matplotlib\\transforms.py:383: RuntimeWarning: invalid value encountered in double_scalars\n",
      "  return (x0, y0, x1 - x0, y1 - y0)\n",
      "C:\\Users\\Usuario\\AppData\\Roaming\\Python\\Python311\\site-packages\\matplotlib\\transforms.py:2047: RuntimeWarning: invalid value encountered in double_scalars\n",
      "  self._mtx[1, 2] += ty\n",
      "C:\\Users\\Usuario\\AppData\\Roaming\\Python\\Python311\\site-packages\\matplotlib\\transforms.py:383: RuntimeWarning: invalid value encountered in double_scalars\n",
      "  return (x0, y0, x1 - x0, y1 - y0)\n",
      "C:\\Users\\Usuario\\AppData\\Local\\Temp\\ipykernel_15792\\1375557824.py:20: UserWarning: FixedFormatter should only be used together with FixedLocator\n",
      "  ax.set_xticklabels(merged['AGEB'], rotation=90)\n"
     ]
    },
    {
     "data": {
      "image/png": "[encoded data removed]",
      "text/plain": [
       "<Figure size 1000x600 with 1 Axes>"
      ]
     },
     "metadata": {},
     "output_type": "display_data"
    }
   ],
   "source": [
    "# Calculate the mean values for each AGEB in 2010 and 2020\n",
    "mean10 = df10_agebs.groupby('AGEB').mean().reset_index()\n",
    "mean20 = df20_agebs.groupby('AGEB').mean().reset_index()\n",
    "\n",
    "# Merge the mean values for 2010 and 2020\n",
    "merged = pd.merge(mean10, mean20, on='AGEB', suffixes=('_2010', '_2020'))\n",
    "\n",
    "# Calculate the percentage change in each variable from 2010 to 2020\n",
    "for col in ['P_TOTAL', 'POB65_MAS', 'GRAPROES', 'PROM_HNV', 'VIVTOT', 'PRO_OCUP_C', 'PROM_OCUP', 'VPH_PC', 'OTRAENT', 'P_0A5']:\n",
    "    merged[col + '_change'] = (merged[col + '_2020'] - merged[col + '_2010']) / merged[col + '_2010'] * 100\n",
    "\n",
    "# Plot the percentage change in each variable from 2010 to 2020\n",
    "import matplotlib.pyplot as plt\n",
    "fig, ax = plt.subplots(figsize=(10, 6))\n",
    "ax.bar(merged['AGEB'], merged['P_TOTAL_change'], label='Total population')\n",
    "ax.bar(merged['AGEB'], merged['POB65_MAS_change'], bottom=merged['P_TOTAL_change'], label='Population over 65')\n",
    "ax.bar(merged['AGEB'], merged['GRAPROES_change'], bottom=merged['P_TOTAL_change'] + merged['POB65_MAS_change'], label='Average schooling')\n",
    "ax.bar(merged['AGEB'], merged['VIVTOT_change'], bottom=merged['P_TOTAL_change'] + merged['POB65_MAS_change'] + merged['GRAPROES_change'], label='Total dwellings')\n",
    "ax.bar(merged['AGEB'], merged['PROM_HNV_change'], bottom=merged['P_TOTAL_change'] + merged['POB65_MAS_change'] + merged['GRAPROES_change'] + merged['VIVTOT_change'], label='Average number of live births')\n",
    "ax.set_xticklabels(merged['AGEB'], rotation=90)\n",
    "ax.set_ylabel('Percentage change')\n",
    "ax.legend()\n",
    "plt.show()\n"
   ]
  },
  {
   "cell_type": "code",
   "execution_count": null,
   "metadata": {},
   "outputs": [],
   "source": []
  }
 ],
 "metadata": {
  "kernelspec": {
   "display_name": "Python 3",
   "language": "python",
   "name": "python3"
  },
  "language_info": {
   "codemirror_mode": {
    "name": "ipython",
    "version": 3
   },
   "file_extension": ".py",
   "mimetype": "text/x-python",
   "name": "python",
   "nbconvert_exporter": "python",
   "pygments_lexer": "ipython3",
   "version": "3.11.0"
  },
  "orig_nbformat": 4
 },
 "nbformat": 4,
 "nbformat_minor": 2
}
