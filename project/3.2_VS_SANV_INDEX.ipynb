{
 "cells": [
  {
   "cell_type": "code",
   "execution_count": 11,
   "metadata": {},
   "outputs": [],
   "source": [
    "import numpy as np\n",
    "import pandas as pd\n",
    "import matplotlib.pyplot as plts\n",
    "\n",
    "%matplotlib inline"
   ]
  },
  {
   "cell_type": "code",
   "execution_count": 12,
   "metadata": {},
   "outputs": [],
   "source": [
    "sv10 = pd.read_csv('DATA/SANV_AGEBS_10.csv', index_col=0)\n",
    "sv20 = pd.read_csv('DATA/SANV_AGEBS_20.csv', index_col=0)"
   ]
  },
  {
   "cell_type": "code",
   "execution_count": 13,
   "metadata": {},
   "outputs": [
    {
     "data": {
      "text/html": [
       "<div>\n",
       "<style scoped>\n",
       "    .dataframe tbody tr th:only-of-type {\n",
       "        vertical-align: middle;\n",
       "    }\n",
       "\n",
       "    .dataframe tbody tr th {\n",
       "        vertical-align: top;\n",
       "    }\n",
       "\n",
       "    .dataframe thead th {\n",
       "        text-align: right;\n",
       "    }\n",
       "</style>\n",
       "<table border=\"1\" class=\"dataframe\">\n",
       "  <thead>\n",
       "    <tr style=\"text-align: right;\">\n",
       "      <th></th>\n",
       "      <th>LOC</th>\n",
       "      <th>NOM_LOC</th>\n",
       "      <th>AGEB</th>\n",
       "      <th>MZA</th>\n",
       "      <th>P_TOTAL</th>\n",
       "      <th>POB65_MAS</th>\n",
       "      <th>GRAPROES</th>\n",
       "      <th>PROM_HNV</th>\n",
       "      <th>VIVTOT</th>\n",
       "      <th>PRO_OCUP_C</th>\n",
       "      <th>PROM_OCUP</th>\n",
       "      <th>VPH_PC</th>\n",
       "      <th>OTRAENT</th>\n",
       "      <th>P_0A5</th>\n",
       "    </tr>\n",
       "    <tr>\n",
       "      <th>NOM_MUN</th>\n",
       "      <th></th>\n",
       "      <th></th>\n",
       "      <th></th>\n",
       "      <th></th>\n",
       "      <th></th>\n",
       "      <th></th>\n",
       "      <th></th>\n",
       "      <th></th>\n",
       "      <th></th>\n",
       "      <th></th>\n",
       "      <th></th>\n",
       "      <th></th>\n",
       "      <th></th>\n",
       "      <th></th>\n",
       "    </tr>\n",
       "  </thead>\n",
       "  <tbody>\n",
       "    <tr>\n",
       "      <th>Ensenada</th>\n",
       "      <td>243</td>\n",
       "      <td>San Vicente</td>\n",
       "      <td>1819</td>\n",
       "      <td>1</td>\n",
       "      <td>9.0</td>\n",
       "      <td>4.0</td>\n",
       "      <td>6.880000</td>\n",
       "      <td>1.830000</td>\n",
       "      <td>2.0</td>\n",
       "      <td>1.000000</td>\n",
       "      <td>2.780000</td>\n",
       "      <td>3.0</td>\n",
       "      <td>18.0</td>\n",
       "      <td>8.0</td>\n",
       "    </tr>\n",
       "    <tr>\n",
       "      <th>Ensenada</th>\n",
       "      <td>243</td>\n",
       "      <td>San Vicente</td>\n",
       "      <td>8178</td>\n",
       "      <td>1</td>\n",
       "      <td>855.0</td>\n",
       "      <td>65.0</td>\n",
       "      <td>5.959444</td>\n",
       "      <td>2.565278</td>\n",
       "      <td>324.0</td>\n",
       "      <td>0.901944</td>\n",
       "      <td>3.193056</td>\n",
       "      <td>92.0</td>\n",
       "      <td>406.0</td>\n",
       "      <td>121.0</td>\n",
       "    </tr>\n",
       "    <tr>\n",
       "      <th>Ensenada</th>\n",
       "      <td>243</td>\n",
       "      <td>San Vicente</td>\n",
       "      <td>8182</td>\n",
       "      <td>1</td>\n",
       "      <td>944.0</td>\n",
       "      <td>74.0</td>\n",
       "      <td>6.354865</td>\n",
       "      <td>2.498108</td>\n",
       "      <td>330.0</td>\n",
       "      <td>1.087027</td>\n",
       "      <td>3.557297</td>\n",
       "      <td>46.0</td>\n",
       "      <td>396.0</td>\n",
       "      <td>141.0</td>\n",
       "    </tr>\n",
       "    <tr>\n",
       "      <th>Ensenada</th>\n",
       "      <td>243</td>\n",
       "      <td>San Vicente</td>\n",
       "      <td>8197</td>\n",
       "      <td>1</td>\n",
       "      <td>1074.0</td>\n",
       "      <td>39.0</td>\n",
       "      <td>6.283415</td>\n",
       "      <td>2.369512</td>\n",
       "      <td>342.0</td>\n",
       "      <td>1.061463</td>\n",
       "      <td>3.398537</td>\n",
       "      <td>81.0</td>\n",
       "      <td>485.0</td>\n",
       "      <td>165.0</td>\n",
       "    </tr>\n",
       "    <tr>\n",
       "      <th>Ensenada</th>\n",
       "      <td>243</td>\n",
       "      <td>San Vicente</td>\n",
       "      <td>820A</td>\n",
       "      <td>1</td>\n",
       "      <td>1480.0</td>\n",
       "      <td>56.0</td>\n",
       "      <td>6.663415</td>\n",
       "      <td>2.344146</td>\n",
       "      <td>494.0</td>\n",
       "      <td>0.923171</td>\n",
       "      <td>3.166341</td>\n",
       "      <td>117.0</td>\n",
       "      <td>645.0</td>\n",
       "      <td>271.0</td>\n",
       "    </tr>\n",
       "  </tbody>\n",
       "</table>\n",
       "</div>"
      ],
      "text/plain": [
       "          LOC      NOM_LOC  AGEB  MZA  P_TOTAL  POB65_MAS  GRAPROES  PROM_HNV  \\\n",
       "NOM_MUN                                                                         \n",
       "Ensenada  243  San Vicente  1819    1      9.0        4.0  6.880000  1.830000   \n",
       "Ensenada  243  San Vicente  8178    1    855.0       65.0  5.959444  2.565278   \n",
       "Ensenada  243  San Vicente  8182    1    944.0       74.0  6.354865  2.498108   \n",
       "Ensenada  243  San Vicente  8197    1   1074.0       39.0  6.283415  2.369512   \n",
       "Ensenada  243  San Vicente  820A    1   1480.0       56.0  6.663415  2.344146   \n",
       "\n",
       "          VIVTOT  PRO_OCUP_C  PROM_OCUP  VPH_PC  OTRAENT  P_0A5  \n",
       "NOM_MUN                                                          \n",
       "Ensenada     2.0    1.000000   2.780000     3.0     18.0    8.0  \n",
       "Ensenada   324.0    0.901944   3.193056    92.0    406.0  121.0  \n",
       "Ensenada   330.0    1.087027   3.557297    46.0    396.0  141.0  \n",
       "Ensenada   342.0    1.061463   3.398537    81.0    485.0  165.0  \n",
       "Ensenada   494.0    0.923171   3.166341   117.0    645.0  271.0  "
      ]
     },
     "execution_count": 13,
     "metadata": {},
     "output_type": "execute_result"
    }
   ],
   "source": [
    "sv10"
   ]
  },
  {
   "attachments": {},
   "cell_type": "markdown",
   "metadata": {},
   "source": [
    "Create a dictionary with the indicators and their correlation with gentrification:"
   ]
  },
  {
   "cell_type": "code",
   "execution_count": 14,
   "metadata": {},
   "outputs": [],
   "source": [
    "# Define indicators and their correlation with gentrification\n",
    "indicators = {\n",
    "    'P_TOTAL': 1,\n",
    "    'POB65_MAS': -1,\n",
    "    'GRAPROES': 1,\n",
    "    'PROM_HNV': -1,\n",
    "    'VIVTOT': 1,\n",
    "    'PRO_OCUP_C': -1,\n",
    "    'PROM_OCUP': -1,\n",
    "    'VPH_PC': 1,\n",
    "    'OTRAENT': 1,\n",
    "    'P_0A5': -1\n",
    "}"
   ]
  },
  {
   "cell_type": "code",
   "execution_count": 15,
   "metadata": {},
   "outputs": [],
   "source": [
    "# Calculate change in each indicator between 2010 and 2020 for each AGEB\n",
    "for indicator in indicators:\n",
    "    sv10[indicator + '_CHANGE'] = sv20[indicator] - sv10[indicator]"
   ]
  },
  {
   "cell_type": "code",
   "execution_count": 16,
   "metadata": {},
   "outputs": [],
   "source": [
    "#average change in each indicator for each AGEB\n",
    "#sv10['CHANGE'] = sv10[[indicator + '_CHANGE' for indicator in indicators]].mean(axis=1)\n",
    "\n",
    "avchange = {}\n",
    "\n",
    "# Calculate average change in each indicator between 2010 and 2020 for the entire city\n",
    "for indicator in indicators:\n",
    "    avchange[indicator] = sv10[indicator + '_CHANGE'].mean()\n",
    "    "
   ]
  },
  {
   "cell_type": "code",
   "execution_count": 17,
   "metadata": {},
   "outputs": [
    {
     "data": {
      "text/plain": [
       "{'P_TOTAL': 68.2,\n",
       " 'POB65_MAS': 35.6,\n",
       " 'GRAPROES': 1.0102855181451609,\n",
       " 'PROM_HNV': 0.03244329343118313,\n",
       " 'VIVTOT': 111.0,\n",
       " 'PRO_OCUP_C': -0.09255441998192993,\n",
       " 'PROM_OCUP': -0.07213781930784187,\n",
       " 'VPH_PC': 30.4,\n",
       " 'OTRAENT': 15.8,\n",
       " 'P_0A5': -18.6}"
      ]
     },
     "execution_count": 17,
     "metadata": {},
     "output_type": "execute_result"
    }
   ],
   "source": [
    "avchange"
   ]
  },
  {
   "cell_type": "code",
   "execution_count": 18,
   "metadata": {},
   "outputs": [
    {
     "ename": "ValueError",
     "evalue": "The truth value of a Series is ambiguous. Use a.empty, a.bool(), a.item(), a.any() or a.all().",
     "output_type": "error",
     "traceback": [
      "\u001b[1;31m---------------------------------------------------------------------------\u001b[0m",
      "\u001b[1;31mValueError\u001b[0m                                Traceback (most recent call last)",
      "\u001b[1;32mc:\\Users\\Usuario\\Documents\\GitHub\\DATA-MINIG\\project\\3.2_VS_SANV_INDEX.ipynb Cell 9\u001b[0m in \u001b[0;36m4\n\u001b[0;32m      <a href='vscode-notebook-cell:/c%3A/Users/Usuario/Documents/GitHub/DATA-MINIG/project/3.2_VS_SANV_INDEX.ipynb#X11sZmlsZQ%3D%3D?line=0'>1</a>\u001b[0m \u001b[39m#see if change in each ageb is above or below average\u001b[39;00m\n\u001b[0;32m      <a href='vscode-notebook-cell:/c%3A/Users/Usuario/Documents/GitHub/DATA-MINIG/project/3.2_VS_SANV_INDEX.ipynb#X11sZmlsZQ%3D%3D?line=1'>2</a>\u001b[0m \u001b[39mfor\u001b[39;00m indicator \u001b[39min\u001b[39;00m indicators:\n\u001b[0;32m      <a href='vscode-notebook-cell:/c%3A/Users/Usuario/Documents/GitHub/DATA-MINIG/project/3.2_VS_SANV_INDEX.ipynb#X11sZmlsZQ%3D%3D?line=2'>3</a>\u001b[0m     \u001b[39m#sv10[indicator + 'ABOVE'] = sv10[indicator + '_CHANGE'] > avchange[indicator]\u001b[39;00m\n\u001b[1;32m----> <a href='vscode-notebook-cell:/c%3A/Users/Usuario/Documents/GitHub/DATA-MINIG/project/3.2_VS_SANV_INDEX.ipynb#X11sZmlsZQ%3D%3D?line=3'>4</a>\u001b[0m     \u001b[39mif\u001b[39;00m(sv10[indicator \u001b[39m+\u001b[39m \u001b[39m'\u001b[39m\u001b[39m_CHANGE\u001b[39m\u001b[39m'\u001b[39m] \u001b[39m>\u001b[39m avchange[indicator]): \n\u001b[0;32m      <a href='vscode-notebook-cell:/c%3A/Users/Usuario/Documents/GitHub/DATA-MINIG/project/3.2_VS_SANV_INDEX.ipynb#X11sZmlsZQ%3D%3D?line=4'>5</a>\u001b[0m         sv10[indicator \u001b[39m+\u001b[39m \u001b[39m'\u001b[39m\u001b[39mSST_INDEX\u001b[39m\u001b[39m'\u001b[39m] \u001b[39m=\u001b[39m\u001b[39m+\u001b[39m \u001b[39m1\u001b[39m\n\u001b[0;32m      <a href='vscode-notebook-cell:/c%3A/Users/Usuario/Documents/GitHub/DATA-MINIG/project/3.2_VS_SANV_INDEX.ipynb#X11sZmlsZQ%3D%3D?line=5'>6</a>\u001b[0m     \u001b[39melse\u001b[39;00m:\n",
      "File \u001b[1;32m~\\AppData\\Roaming\\Python\\Python311\\site-packages\\pandas\\core\\generic.py:1527\u001b[0m, in \u001b[0;36mNDFrame.__nonzero__\u001b[1;34m(self)\u001b[0m\n\u001b[0;32m   1525\u001b[0m \u001b[39m@final\u001b[39m\n\u001b[0;32m   1526\u001b[0m \u001b[39mdef\u001b[39;00m \u001b[39m__nonzero__\u001b[39m(\u001b[39mself\u001b[39m) \u001b[39m-\u001b[39m\u001b[39m>\u001b[39m NoReturn:\n\u001b[1;32m-> 1527\u001b[0m     \u001b[39mraise\u001b[39;00m \u001b[39mValueError\u001b[39;00m(\n\u001b[0;32m   1528\u001b[0m         \u001b[39mf\u001b[39m\u001b[39m\"\u001b[39m\u001b[39mThe truth value of a \u001b[39m\u001b[39m{\u001b[39;00m\u001b[39mtype\u001b[39m(\u001b[39mself\u001b[39m)\u001b[39m.\u001b[39m\u001b[39m__name__\u001b[39m\u001b[39m}\u001b[39;00m\u001b[39m is ambiguous. \u001b[39m\u001b[39m\"\u001b[39m\n\u001b[0;32m   1529\u001b[0m         \u001b[39m\"\u001b[39m\u001b[39mUse a.empty, a.bool(), a.item(), a.any() or a.all().\u001b[39m\u001b[39m\"\u001b[39m\n\u001b[0;32m   1530\u001b[0m     )\n",
      "\u001b[1;31mValueError\u001b[0m: The truth value of a Series is ambiguous. Use a.empty, a.bool(), a.item(), a.any() or a.all()."
     ]
    }
   ],
   "source": [
    "#see if change in each ageb is above or below average\n",
    "for indicator in indicators:\n",
    "    #sv10[indicator + 'ABOVE'] = sv10[indicator + '_CHANGE'] > avchange[indicator]\n",
    "    if(sv10[indicator + '_CHANGE'] > avchange[indicator]): \n",
    "        sv10[indicator + 'SST_INDEX'] =+ 1\n",
    "    else:\n",
    "        sv10[indicator + 'SST_INDEX'] =- 1\n"
   ]
  },
  {
   "cell_type": "code",
   "execution_count": null,
   "metadata": {},
   "outputs": [],
   "source": []
  }
 ],
 "metadata": {
  "kernelspec": {
   "display_name": "Python 3",
   "language": "python",
   "name": "python3"
  },
  "language_info": {
   "codemirror_mode": {
    "name": "ipython",
    "version": 3
   },
   "file_extension": ".py",
   "mimetype": "text/x-python",
   "name": "python",
   "nbconvert_exporter": "python",
   "pygments_lexer": "ipython3",
   "version": "3.11.0"
  },
  "orig_nbformat": 4
 },
 "nbformat": 4,
 "nbformat_minor": 2
}
