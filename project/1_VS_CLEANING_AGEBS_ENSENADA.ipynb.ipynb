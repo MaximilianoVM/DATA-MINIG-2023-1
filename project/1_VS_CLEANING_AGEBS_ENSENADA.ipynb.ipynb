{
 "cells": [
  {
   "cell_type": "code",
   "execution_count": 2,
   "metadata": {},
   "outputs": [],
   "source": [
    "import numpy as np\n",
    "import pandas as pd\n",
    "import matplotlib.pyplot as plts\n",
    "\n",
    "%matplotlib inline"
   ]
  },
  {
   "cell_type": "code",
   "execution_count": 4,
   "metadata": {},
   "outputs": [],
   "source": [
    "df10 = pd.read_csv('DATA/clean10.csv', index_col=0)\n",
    "df20 = pd.read_csv('DATA/clean20.csv', index_col=0)"
   ]
  },
  {
   "cell_type": "code",
   "execution_count": 5,
   "metadata": {},
   "outputs": [
    {
     "name": "stdout",
     "output_type": "stream",
     "text": [
      "<class 'pandas.core.frame.DataFrame'>\n",
      "Int64Index: 7031 entries, 4 to 8850\n",
      "Data columns (total 16 columns):\n",
      " #   Column      Non-Null Count  Dtype \n",
      "---  ------      --------------  ----- \n",
      " 0   NOM_MUN     7031 non-null   object\n",
      " 1   LOC         7031 non-null   int64 \n",
      " 2   NOM_LOC     7031 non-null   object\n",
      " 3   AGEB        7031 non-null   object\n",
      " 4   MZA         7031 non-null   int64 \n",
      " 5   P_TOTAL     7031 non-null   int64 \n",
      " 6   P_0A2       7031 non-null   object\n",
      " 7   P_3A5       7031 non-null   object\n",
      " 8   POB65_MAS   7031 non-null   object\n",
      " 9   GRAPROES    7031 non-null   object\n",
      " 10  PROM_HNV    7031 non-null   object\n",
      " 11  VIVTOT      7031 non-null   int64 \n",
      " 12  PRO_OCUP_C  7031 non-null   object\n",
      " 13  PROM_OCUP   7031 non-null   object\n",
      " 14  VPH_PC      7031 non-null   object\n",
      " 15  PNACOE      7031 non-null   object\n",
      "dtypes: int64(4), object(12)\n",
      "memory usage: 933.8+ KB\n"
     ]
    }
   ],
   "source": [
    "df10.info()"
   ]
  },
  {
   "attachments": {},
   "cell_type": "markdown",
   "metadata": {},
   "source": [
    "nos limitamos a ensenada"
   ]
  },
  {
   "cell_type": "code",
   "execution_count": 6,
   "metadata": {},
   "outputs": [],
   "source": [
    "df_ens_10 = df10[df10['NOM_LOC'] == 'Ensenada']\n",
    "df_ens_10.reset_index(inplace=True)\n",
    "\n",
    "df_ens_20 = df20[df20['NOM_LOC'] == 'Ensenada']\n",
    "df_ens_20.reset_index(inplace=True)"
   ]
  },
  {
   "cell_type": "code",
   "execution_count": 7,
   "metadata": {},
   "outputs": [
    {
     "data": {
      "text/html": [
       "<div>\n",
       "<style scoped>\n",
       "    .dataframe tbody tr th:only-of-type {\n",
       "        vertical-align: middle;\n",
       "    }\n",
       "\n",
       "    .dataframe tbody tr th {\n",
       "        vertical-align: top;\n",
       "    }\n",
       "\n",
       "    .dataframe thead th {\n",
       "        text-align: right;\n",
       "    }\n",
       "</style>\n",
       "<table border=\"1\" class=\"dataframe\">\n",
       "  <thead>\n",
       "    <tr style=\"text-align: right;\">\n",
       "      <th></th>\n",
       "      <th>index</th>\n",
       "      <th>NOM_MUN</th>\n",
       "      <th>LOC</th>\n",
       "      <th>NOM_LOC</th>\n",
       "      <th>AGEB</th>\n",
       "      <th>MZA</th>\n",
       "      <th>P_TOTAL</th>\n",
       "      <th>P_0A2</th>\n",
       "      <th>P_3A5</th>\n",
       "      <th>POB65_MAS</th>\n",
       "      <th>GRAPROES</th>\n",
       "      <th>PROM_HNV</th>\n",
       "      <th>VIVTOT</th>\n",
       "      <th>PRO_OCUP_C</th>\n",
       "      <th>PROM_OCUP</th>\n",
       "      <th>VPH_PC</th>\n",
       "      <th>PNACOE</th>\n",
       "    </tr>\n",
       "  </thead>\n",
       "  <tbody>\n",
       "    <tr>\n",
       "      <th>0</th>\n",
       "      <td>4</td>\n",
       "      <td>Ensenada</td>\n",
       "      <td>1</td>\n",
       "      <td>Ensenada</td>\n",
       "      <td>0435</td>\n",
       "      <td>1</td>\n",
       "      <td>48</td>\n",
       "      <td>*</td>\n",
       "      <td>3</td>\n",
       "      <td>4</td>\n",
       "      <td>8.31</td>\n",
       "      <td>2.50</td>\n",
       "      <td>15</td>\n",
       "      <td>1.02</td>\n",
       "      <td>3.43</td>\n",
       "      <td>7</td>\n",
       "      <td>16</td>\n",
       "    </tr>\n",
       "    <tr>\n",
       "      <th>1</th>\n",
       "      <td>5</td>\n",
       "      <td>Ensenada</td>\n",
       "      <td>1</td>\n",
       "      <td>Ensenada</td>\n",
       "      <td>0435</td>\n",
       "      <td>3</td>\n",
       "      <td>41</td>\n",
       "      <td>*</td>\n",
       "      <td>0</td>\n",
       "      <td>6</td>\n",
       "      <td>9.48</td>\n",
       "      <td>2.40</td>\n",
       "      <td>16</td>\n",
       "      <td>0.85</td>\n",
       "      <td>3.15</td>\n",
       "      <td>4</td>\n",
       "      <td>16</td>\n",
       "    </tr>\n",
       "    <tr>\n",
       "      <th>2</th>\n",
       "      <td>6</td>\n",
       "      <td>Ensenada</td>\n",
       "      <td>1</td>\n",
       "      <td>Ensenada</td>\n",
       "      <td>0435</td>\n",
       "      <td>4</td>\n",
       "      <td>41</td>\n",
       "      <td>3</td>\n",
       "      <td>*</td>\n",
       "      <td>4</td>\n",
       "      <td>10.29</td>\n",
       "      <td>1.88</td>\n",
       "      <td>11</td>\n",
       "      <td>0.87</td>\n",
       "      <td>4.10</td>\n",
       "      <td>7</td>\n",
       "      <td>16</td>\n",
       "    </tr>\n",
       "    <tr>\n",
       "      <th>3</th>\n",
       "      <td>7</td>\n",
       "      <td>Ensenada</td>\n",
       "      <td>1</td>\n",
       "      <td>Ensenada</td>\n",
       "      <td>0435</td>\n",
       "      <td>6</td>\n",
       "      <td>54</td>\n",
       "      <td>*</td>\n",
       "      <td>*</td>\n",
       "      <td>*</td>\n",
       "      <td>10.24</td>\n",
       "      <td>1.82</td>\n",
       "      <td>23</td>\n",
       "      <td>0.72</td>\n",
       "      <td>3.18</td>\n",
       "      <td>10</td>\n",
       "      <td>17</td>\n",
       "    </tr>\n",
       "    <tr>\n",
       "      <th>4</th>\n",
       "      <td>8</td>\n",
       "      <td>Ensenada</td>\n",
       "      <td>1</td>\n",
       "      <td>Ensenada</td>\n",
       "      <td>0435</td>\n",
       "      <td>7</td>\n",
       "      <td>54</td>\n",
       "      <td>3</td>\n",
       "      <td>3</td>\n",
       "      <td>7</td>\n",
       "      <td>9.85</td>\n",
       "      <td>2.33</td>\n",
       "      <td>17</td>\n",
       "      <td>0.78</td>\n",
       "      <td>3.38</td>\n",
       "      <td>7</td>\n",
       "      <td>18</td>\n",
       "    </tr>\n",
       "    <tr>\n",
       "      <th>...</th>\n",
       "      <td>...</td>\n",
       "      <td>...</td>\n",
       "      <td>...</td>\n",
       "      <td>...</td>\n",
       "      <td>...</td>\n",
       "      <td>...</td>\n",
       "      <td>...</td>\n",
       "      <td>...</td>\n",
       "      <td>...</td>\n",
       "      <td>...</td>\n",
       "      <td>...</td>\n",
       "      <td>...</td>\n",
       "      <td>...</td>\n",
       "      <td>...</td>\n",
       "      <td>...</td>\n",
       "      <td>...</td>\n",
       "      <td>...</td>\n",
       "    </tr>\n",
       "    <tr>\n",
       "      <th>5250</th>\n",
       "      <td>5442</td>\n",
       "      <td>Ensenada</td>\n",
       "      <td>1</td>\n",
       "      <td>Ensenada</td>\n",
       "      <td>9890</td>\n",
       "      <td>5</td>\n",
       "      <td>7</td>\n",
       "      <td>0</td>\n",
       "      <td>*</td>\n",
       "      <td>*</td>\n",
       "      <td>2</td>\n",
       "      <td>2.50</td>\n",
       "      <td>5</td>\n",
       "      <td>0.88</td>\n",
       "      <td>2.33</td>\n",
       "      <td>0</td>\n",
       "      <td>5</td>\n",
       "    </tr>\n",
       "    <tr>\n",
       "      <th>5251</th>\n",
       "      <td>5443</td>\n",
       "      <td>Ensenada</td>\n",
       "      <td>1</td>\n",
       "      <td>Ensenada</td>\n",
       "      <td>9890</td>\n",
       "      <td>6</td>\n",
       "      <td>0</td>\n",
       "      <td>0</td>\n",
       "      <td>0</td>\n",
       "      <td>0</td>\n",
       "      <td>0</td>\n",
       "      <td>0</td>\n",
       "      <td>0</td>\n",
       "      <td>0</td>\n",
       "      <td>0</td>\n",
       "      <td>0</td>\n",
       "      <td>0</td>\n",
       "    </tr>\n",
       "    <tr>\n",
       "      <th>5252</th>\n",
       "      <td>5444</td>\n",
       "      <td>Ensenada</td>\n",
       "      <td>1</td>\n",
       "      <td>Ensenada</td>\n",
       "      <td>9890</td>\n",
       "      <td>7</td>\n",
       "      <td>5</td>\n",
       "      <td>*</td>\n",
       "      <td>*</td>\n",
       "      <td>*</td>\n",
       "      <td>*</td>\n",
       "      <td>*</td>\n",
       "      <td>5</td>\n",
       "      <td>*</td>\n",
       "      <td>*</td>\n",
       "      <td>*</td>\n",
       "      <td>*</td>\n",
       "    </tr>\n",
       "    <tr>\n",
       "      <th>5253</th>\n",
       "      <td>5445</td>\n",
       "      <td>Ensenada</td>\n",
       "      <td>1</td>\n",
       "      <td>Ensenada</td>\n",
       "      <td>9890</td>\n",
       "      <td>8</td>\n",
       "      <td>0</td>\n",
       "      <td>0</td>\n",
       "      <td>0</td>\n",
       "      <td>0</td>\n",
       "      <td>0</td>\n",
       "      <td>0</td>\n",
       "      <td>0</td>\n",
       "      <td>0</td>\n",
       "      <td>0</td>\n",
       "      <td>0</td>\n",
       "      <td>0</td>\n",
       "    </tr>\n",
       "    <tr>\n",
       "      <th>5254</th>\n",
       "      <td>5447</td>\n",
       "      <td>Ensenada</td>\n",
       "      <td>1</td>\n",
       "      <td>Ensenada</td>\n",
       "      <td>9903</td>\n",
       "      <td>1</td>\n",
       "      <td>61</td>\n",
       "      <td>*</td>\n",
       "      <td>*</td>\n",
       "      <td>*</td>\n",
       "      <td>13.56</td>\n",
       "      <td>1.54</td>\n",
       "      <td>26</td>\n",
       "      <td>0.90</td>\n",
       "      <td>3.59</td>\n",
       "      <td>10</td>\n",
       "      <td>21</td>\n",
       "    </tr>\n",
       "  </tbody>\n",
       "</table>\n",
       "<p>5255 rows × 17 columns</p>\n",
       "</div>"
      ],
      "text/plain": [
       "      index   NOM_MUN  LOC   NOM_LOC  AGEB  MZA  P_TOTAL P_0A2 P_3A5  \\\n",
       "0         4  Ensenada    1  Ensenada  0435    1       48     *     3   \n",
       "1         5  Ensenada    1  Ensenada  0435    3       41     *     0   \n",
       "2         6  Ensenada    1  Ensenada  0435    4       41     3     *   \n",
       "3         7  Ensenada    1  Ensenada  0435    6       54     *     *   \n",
       "4         8  Ensenada    1  Ensenada  0435    7       54     3     3   \n",
       "...     ...       ...  ...       ...   ...  ...      ...   ...   ...   \n",
       "5250   5442  Ensenada    1  Ensenada  9890    5        7     0     *   \n",
       "5251   5443  Ensenada    1  Ensenada  9890    6        0     0     0   \n",
       "5252   5444  Ensenada    1  Ensenada  9890    7        5     *     *   \n",
       "5253   5445  Ensenada    1  Ensenada  9890    8        0     0     0   \n",
       "5254   5447  Ensenada    1  Ensenada  9903    1       61     *     *   \n",
       "\n",
       "     POB65_MAS GRAPROES PROM_HNV  VIVTOT PRO_OCUP_C PROM_OCUP VPH_PC PNACOE  \n",
       "0            4     8.31     2.50      15       1.02      3.43      7     16  \n",
       "1            6     9.48     2.40      16       0.85      3.15      4     16  \n",
       "2            4    10.29     1.88      11       0.87      4.10      7     16  \n",
       "3            *    10.24     1.82      23       0.72      3.18     10     17  \n",
       "4            7     9.85     2.33      17       0.78      3.38      7     18  \n",
       "...        ...      ...      ...     ...        ...       ...    ...    ...  \n",
       "5250         *        2     2.50       5       0.88      2.33      0      5  \n",
       "5251         0        0        0       0          0         0      0      0  \n",
       "5252         *        *        *       5          *         *      *      *  \n",
       "5253         0        0        0       0          0         0      0      0  \n",
       "5254         *    13.56     1.54      26       0.90      3.59     10     21  \n",
       "\n",
       "[5255 rows x 17 columns]"
      ]
     },
     "execution_count": 7,
     "metadata": {},
     "output_type": "execute_result"
    }
   ],
   "source": [
    "df_ens_10"
   ]
  },
  {
   "cell_type": "code",
   "execution_count": 8,
   "metadata": {},
   "outputs": [
    {
     "data": {
      "text/plain": [
       "5255"
      ]
     },
     "execution_count": 8,
     "metadata": {},
     "output_type": "execute_result"
    }
   ],
   "source": [
    "df_ens_10['NOM_LOC'].size"
   ]
  },
  {
   "attachments": {},
   "cell_type": "markdown",
   "metadata": {},
   "source": [
    "cuantas agebs tenemos? "
   ]
  },
  {
   "cell_type": "code",
   "execution_count": 9,
   "metadata": {},
   "outputs": [
    {
     "data": {
      "text/plain": [
       "190"
      ]
     },
     "execution_count": 9,
     "metadata": {},
     "output_type": "execute_result"
    }
   ],
   "source": [
    "df_ens_10['AGEB'].unique().size"
   ]
  },
  {
   "cell_type": "code",
   "execution_count": 10,
   "metadata": {},
   "outputs": [
    {
     "data": {
      "text/plain": [
       "'9903'"
      ]
     },
     "execution_count": 10,
     "metadata": {},
     "output_type": "execute_result"
    }
   ],
   "source": [
    "df_ens_10['AGEB'].unique().max()"
   ]
  },
  {
   "cell_type": "code",
   "execution_count": 11,
   "metadata": {},
   "outputs": [
    {
     "data": {
      "text/plain": [
       "100"
      ]
     },
     "execution_count": 11,
     "metadata": {},
     "output_type": "execute_result"
    }
   ],
   "source": [
    "df_ens_10['MZA'].unique().max()"
   ]
  },
  {
   "attachments": {},
   "cell_type": "markdown",
   "metadata": {},
   "source": [
    "tiramos la manzana 800, esta fuera del rango usual y puede significar otra cosa"
   ]
  },
  {
   "cell_type": "code",
   "execution_count": 12,
   "metadata": {},
   "outputs": [],
   "source": [
    "#drop row if mza is 800\n",
    "df_ens_10 = df_ens_10[df_ens_10['MZA'] != 800]\n",
    "\n",
    "df_ens_20 = df_ens_20[df_ens_20['MZA'] != 800]"
   ]
  },
  {
   "cell_type": "code",
   "execution_count": 13,
   "metadata": {},
   "outputs": [
    {
     "data": {
      "text/plain": [
       "100"
      ]
     },
     "execution_count": 13,
     "metadata": {},
     "output_type": "execute_result"
    }
   ],
   "source": [
    "df_ens_10['MZA'].unique().max()"
   ]
  },
  {
   "cell_type": "code",
   "execution_count": 14,
   "metadata": {},
   "outputs": [
    {
     "data": {
      "text/html": [
       "<div>\n",
       "<style scoped>\n",
       "    .dataframe tbody tr th:only-of-type {\n",
       "        vertical-align: middle;\n",
       "    }\n",
       "\n",
       "    .dataframe tbody tr th {\n",
       "        vertical-align: top;\n",
       "    }\n",
       "\n",
       "    .dataframe thead th {\n",
       "        text-align: right;\n",
       "    }\n",
       "</style>\n",
       "<table border=\"1\" class=\"dataframe\">\n",
       "  <thead>\n",
       "    <tr style=\"text-align: right;\">\n",
       "      <th></th>\n",
       "      <th>index</th>\n",
       "      <th>LOC</th>\n",
       "      <th>MZA</th>\n",
       "      <th>P_TOTAL</th>\n",
       "      <th>VIVTOT</th>\n",
       "    </tr>\n",
       "  </thead>\n",
       "  <tbody>\n",
       "    <tr>\n",
       "      <th>count</th>\n",
       "      <td>5255.000000</td>\n",
       "      <td>5255.0</td>\n",
       "      <td>5255.000000</td>\n",
       "      <td>5255.000000</td>\n",
       "      <td>5255.000000</td>\n",
       "    </tr>\n",
       "    <tr>\n",
       "      <th>mean</th>\n",
       "      <td>2723.169553</td>\n",
       "      <td>1.0</td>\n",
       "      <td>22.216936</td>\n",
       "      <td>53.237869</td>\n",
       "      <td>19.150143</td>\n",
       "    </tr>\n",
       "    <tr>\n",
       "      <th>std</th>\n",
       "      <td>1571.823135</td>\n",
       "      <td>0.0</td>\n",
       "      <td>16.461110</td>\n",
       "      <td>68.790277</td>\n",
       "      <td>19.594114</td>\n",
       "    </tr>\n",
       "    <tr>\n",
       "      <th>min</th>\n",
       "      <td>4.000000</td>\n",
       "      <td>1.0</td>\n",
       "      <td>1.000000</td>\n",
       "      <td>0.000000</td>\n",
       "      <td>0.000000</td>\n",
       "    </tr>\n",
       "    <tr>\n",
       "      <th>25%</th>\n",
       "      <td>1353.500000</td>\n",
       "      <td>1.0</td>\n",
       "      <td>9.000000</td>\n",
       "      <td>16.000000</td>\n",
       "      <td>6.000000</td>\n",
       "    </tr>\n",
       "    <tr>\n",
       "      <th>50%</th>\n",
       "      <td>2732.000000</td>\n",
       "      <td>1.0</td>\n",
       "      <td>19.000000</td>\n",
       "      <td>41.000000</td>\n",
       "      <td>15.000000</td>\n",
       "    </tr>\n",
       "    <tr>\n",
       "      <th>75%</th>\n",
       "      <td>4078.500000</td>\n",
       "      <td>1.0</td>\n",
       "      <td>32.000000</td>\n",
       "      <td>72.000000</td>\n",
       "      <td>26.000000</td>\n",
       "    </tr>\n",
       "    <tr>\n",
       "      <th>max</th>\n",
       "      <td>5447.000000</td>\n",
       "      <td>1.0</td>\n",
       "      <td>100.000000</td>\n",
       "      <td>3018.000000</td>\n",
       "      <td>360.000000</td>\n",
       "    </tr>\n",
       "  </tbody>\n",
       "</table>\n",
       "</div>"
      ],
      "text/plain": [
       "             index     LOC          MZA      P_TOTAL       VIVTOT\n",
       "count  5255.000000  5255.0  5255.000000  5255.000000  5255.000000\n",
       "mean   2723.169553     1.0    22.216936    53.237869    19.150143\n",
       "std    1571.823135     0.0    16.461110    68.790277    19.594114\n",
       "min       4.000000     1.0     1.000000     0.000000     0.000000\n",
       "25%    1353.500000     1.0     9.000000    16.000000     6.000000\n",
       "50%    2732.000000     1.0    19.000000    41.000000    15.000000\n",
       "75%    4078.500000     1.0    32.000000    72.000000    26.000000\n",
       "max    5447.000000     1.0   100.000000  3018.000000   360.000000"
      ]
     },
     "execution_count": 14,
     "metadata": {},
     "output_type": "execute_result"
    }
   ],
   "source": [
    "df_ens_10.describe()"
   ]
  },
  {
   "cell_type": "code",
   "execution_count": 15,
   "metadata": {},
   "outputs": [
    {
     "data": {
      "text/html": [
       "<div>\n",
       "<style scoped>\n",
       "    .dataframe tbody tr th:only-of-type {\n",
       "        vertical-align: middle;\n",
       "    }\n",
       "\n",
       "    .dataframe tbody tr th {\n",
       "        vertical-align: top;\n",
       "    }\n",
       "\n",
       "    .dataframe thead th {\n",
       "        text-align: right;\n",
       "    }\n",
       "</style>\n",
       "<table border=\"1\" class=\"dataframe\">\n",
       "  <thead>\n",
       "    <tr style=\"text-align: right;\">\n",
       "      <th></th>\n",
       "      <th>index</th>\n",
       "      <th>NOM_MUN</th>\n",
       "      <th>LOC</th>\n",
       "      <th>NOM_LOC</th>\n",
       "      <th>AGEB</th>\n",
       "      <th>MZA</th>\n",
       "      <th>P_TOTAL</th>\n",
       "      <th>P_0A2</th>\n",
       "      <th>P_3A5</th>\n",
       "      <th>POB65_MAS</th>\n",
       "      <th>GRAPROES</th>\n",
       "      <th>PROM_HNV</th>\n",
       "      <th>VIVTOT</th>\n",
       "      <th>PRO_OCUP_C</th>\n",
       "      <th>PROM_OCUP</th>\n",
       "      <th>VPH_PC</th>\n",
       "      <th>PNACOE</th>\n",
       "    </tr>\n",
       "  </thead>\n",
       "  <tbody>\n",
       "  </tbody>\n",
       "</table>\n",
       "</div>"
      ],
      "text/plain": [
       "Empty DataFrame\n",
       "Columns: [index, NOM_MUN, LOC, NOM_LOC, AGEB, MZA, P_TOTAL, P_0A2, P_3A5, POB65_MAS, GRAPROES, PROM_HNV, VIVTOT, PRO_OCUP_C, PROM_OCUP, VPH_PC, PNACOE]\n",
       "Index: []"
      ]
     },
     "execution_count": 15,
     "metadata": {},
     "output_type": "execute_result"
    }
   ],
   "source": [
    "df_ens_10[ df_ens_10['VIVTOT'] == 364.000000]"
   ]
  },
  {
   "attachments": {
    "image.png": {
     "image/png": "[encoded data removed]"
    }
   },
   "cell_type": "markdown",
   "metadata": {},
   "source": [
    "necesitamos limpiar los datos, quitar los valores no numericos de las variables numericas\n",
    "\n",
    "![image.png](attachment:image.png)"
   ]
  },
  {
   "attachments": {},
   "cell_type": "markdown",
   "metadata": {},
   "source": [
    "primero vamos a renombrar PNACOE ya que no es muy intuitivo"
   ]
  },
  {
   "cell_type": "code",
   "execution_count": 16,
   "metadata": {},
   "outputs": [],
   "source": [
    "#rename column PNACOE for OTRAENT\n",
    "df_ens_10.rename(columns={'PNACOE':'OTRAENT'}, inplace=True)\n",
    "\n",
    "df_ens_20.rename(columns={'PNACOE':'OTRAENT'}, inplace=True)"
   ]
  },
  {
   "cell_type": "code",
   "execution_count": 17,
   "metadata": {},
   "outputs": [
    {
     "data": {
      "text/html": [
       "<div>\n",
       "<style scoped>\n",
       "    .dataframe tbody tr th:only-of-type {\n",
       "        vertical-align: middle;\n",
       "    }\n",
       "\n",
       "    .dataframe tbody tr th {\n",
       "        vertical-align: top;\n",
       "    }\n",
       "\n",
       "    .dataframe thead th {\n",
       "        text-align: right;\n",
       "    }\n",
       "</style>\n",
       "<table border=\"1\" class=\"dataframe\">\n",
       "  <thead>\n",
       "    <tr style=\"text-align: right;\">\n",
       "      <th></th>\n",
       "      <th>index</th>\n",
       "      <th>NOM_MUN</th>\n",
       "      <th>LOC</th>\n",
       "      <th>NOM_LOC</th>\n",
       "      <th>AGEB</th>\n",
       "      <th>MZA</th>\n",
       "      <th>P_TOTAL</th>\n",
       "      <th>P_0A2</th>\n",
       "      <th>P_3A5</th>\n",
       "      <th>POB65_MAS</th>\n",
       "      <th>GRAPROES</th>\n",
       "      <th>PROM_HNV</th>\n",
       "      <th>VIVTOT</th>\n",
       "      <th>PRO_OCUP_C</th>\n",
       "      <th>PROM_OCUP</th>\n",
       "      <th>VPH_PC</th>\n",
       "      <th>OTRAENT</th>\n",
       "    </tr>\n",
       "  </thead>\n",
       "  <tbody>\n",
       "    <tr>\n",
       "      <th>0</th>\n",
       "      <td>4</td>\n",
       "      <td>Ensenada</td>\n",
       "      <td>1</td>\n",
       "      <td>Ensenada</td>\n",
       "      <td>0435</td>\n",
       "      <td>1</td>\n",
       "      <td>48</td>\n",
       "      <td>*</td>\n",
       "      <td>3</td>\n",
       "      <td>4</td>\n",
       "      <td>8.31</td>\n",
       "      <td>2.50</td>\n",
       "      <td>15</td>\n",
       "      <td>1.02</td>\n",
       "      <td>3.43</td>\n",
       "      <td>7</td>\n",
       "      <td>16</td>\n",
       "    </tr>\n",
       "  </tbody>\n",
       "</table>\n",
       "</div>"
      ],
      "text/plain": [
       "   index   NOM_MUN  LOC   NOM_LOC  AGEB  MZA  P_TOTAL P_0A2 P_3A5 POB65_MAS  \\\n",
       "0      4  Ensenada    1  Ensenada  0435    1       48     *     3         4   \n",
       "\n",
       "  GRAPROES PROM_HNV  VIVTOT PRO_OCUP_C PROM_OCUP VPH_PC OTRAENT  \n",
       "0     8.31     2.50      15       1.02      3.43      7      16  "
      ]
     },
     "execution_count": 17,
     "metadata": {},
     "output_type": "execute_result"
    }
   ],
   "source": [
    "df_ens_10.head(1)"
   ]
  },
  {
   "attachments": {},
   "cell_type": "markdown",
   "metadata": {},
   "source": [
    "ahora si a limpiar"
   ]
  },
  {
   "cell_type": "code",
   "execution_count": 18,
   "metadata": {},
   "outputs": [],
   "source": [
    "limpiar = ['P_TOTAL', 'P_0A2', 'P_3A5', 'POB65_MAS', 'GRAPROES', 'PROM_HNV', 'VIVTOT', 'PRO_OCUP_C', 'PROM_OCUP', 'VPH_PC', 'OTRAENT']"
   ]
  },
  {
   "cell_type": "code",
   "execution_count": 19,
   "metadata": {},
   "outputs": [
    {
     "data": {
      "text/html": [
       "<div>\n",
       "<style scoped>\n",
       "    .dataframe tbody tr th:only-of-type {\n",
       "        vertical-align: middle;\n",
       "    }\n",
       "\n",
       "    .dataframe tbody tr th {\n",
       "        vertical-align: top;\n",
       "    }\n",
       "\n",
       "    .dataframe thead th {\n",
       "        text-align: right;\n",
       "    }\n",
       "</style>\n",
       "<table border=\"1\" class=\"dataframe\">\n",
       "  <thead>\n",
       "    <tr style=\"text-align: right;\">\n",
       "      <th></th>\n",
       "      <th>P_TOTAL</th>\n",
       "      <th>P_0A2</th>\n",
       "      <th>P_3A5</th>\n",
       "      <th>POB65_MAS</th>\n",
       "      <th>GRAPROES</th>\n",
       "      <th>PROM_HNV</th>\n",
       "      <th>VIVTOT</th>\n",
       "      <th>PRO_OCUP_C</th>\n",
       "      <th>PROM_OCUP</th>\n",
       "      <th>VPH_PC</th>\n",
       "      <th>OTRAENT</th>\n",
       "    </tr>\n",
       "  </thead>\n",
       "  <tbody>\n",
       "    <tr>\n",
       "      <th>0</th>\n",
       "      <td>48</td>\n",
       "      <td>*</td>\n",
       "      <td>3</td>\n",
       "      <td>4</td>\n",
       "      <td>8.31</td>\n",
       "      <td>2.50</td>\n",
       "      <td>15</td>\n",
       "      <td>1.02</td>\n",
       "      <td>3.43</td>\n",
       "      <td>7</td>\n",
       "      <td>16</td>\n",
       "    </tr>\n",
       "    <tr>\n",
       "      <th>1</th>\n",
       "      <td>41</td>\n",
       "      <td>*</td>\n",
       "      <td>0</td>\n",
       "      <td>6</td>\n",
       "      <td>9.48</td>\n",
       "      <td>2.40</td>\n",
       "      <td>16</td>\n",
       "      <td>0.85</td>\n",
       "      <td>3.15</td>\n",
       "      <td>4</td>\n",
       "      <td>16</td>\n",
       "    </tr>\n",
       "    <tr>\n",
       "      <th>2</th>\n",
       "      <td>41</td>\n",
       "      <td>3</td>\n",
       "      <td>*</td>\n",
       "      <td>4</td>\n",
       "      <td>10.29</td>\n",
       "      <td>1.88</td>\n",
       "      <td>11</td>\n",
       "      <td>0.87</td>\n",
       "      <td>4.10</td>\n",
       "      <td>7</td>\n",
       "      <td>16</td>\n",
       "    </tr>\n",
       "    <tr>\n",
       "      <th>3</th>\n",
       "      <td>54</td>\n",
       "      <td>*</td>\n",
       "      <td>*</td>\n",
       "      <td>*</td>\n",
       "      <td>10.24</td>\n",
       "      <td>1.82</td>\n",
       "      <td>23</td>\n",
       "      <td>0.72</td>\n",
       "      <td>3.18</td>\n",
       "      <td>10</td>\n",
       "      <td>17</td>\n",
       "    </tr>\n",
       "    <tr>\n",
       "      <th>4</th>\n",
       "      <td>54</td>\n",
       "      <td>3</td>\n",
       "      <td>3</td>\n",
       "      <td>7</td>\n",
       "      <td>9.85</td>\n",
       "      <td>2.33</td>\n",
       "      <td>17</td>\n",
       "      <td>0.78</td>\n",
       "      <td>3.38</td>\n",
       "      <td>7</td>\n",
       "      <td>18</td>\n",
       "    </tr>\n",
       "    <tr>\n",
       "      <th>...</th>\n",
       "      <td>...</td>\n",
       "      <td>...</td>\n",
       "      <td>...</td>\n",
       "      <td>...</td>\n",
       "      <td>...</td>\n",
       "      <td>...</td>\n",
       "      <td>...</td>\n",
       "      <td>...</td>\n",
       "      <td>...</td>\n",
       "      <td>...</td>\n",
       "      <td>...</td>\n",
       "    </tr>\n",
       "    <tr>\n",
       "      <th>5250</th>\n",
       "      <td>7</td>\n",
       "      <td>0</td>\n",
       "      <td>*</td>\n",
       "      <td>*</td>\n",
       "      <td>2</td>\n",
       "      <td>2.50</td>\n",
       "      <td>5</td>\n",
       "      <td>0.88</td>\n",
       "      <td>2.33</td>\n",
       "      <td>0</td>\n",
       "      <td>5</td>\n",
       "    </tr>\n",
       "    <tr>\n",
       "      <th>5251</th>\n",
       "      <td>0</td>\n",
       "      <td>0</td>\n",
       "      <td>0</td>\n",
       "      <td>0</td>\n",
       "      <td>0</td>\n",
       "      <td>0</td>\n",
       "      <td>0</td>\n",
       "      <td>0</td>\n",
       "      <td>0</td>\n",
       "      <td>0</td>\n",
       "      <td>0</td>\n",
       "    </tr>\n",
       "    <tr>\n",
       "      <th>5252</th>\n",
       "      <td>5</td>\n",
       "      <td>*</td>\n",
       "      <td>*</td>\n",
       "      <td>*</td>\n",
       "      <td>*</td>\n",
       "      <td>*</td>\n",
       "      <td>5</td>\n",
       "      <td>*</td>\n",
       "      <td>*</td>\n",
       "      <td>*</td>\n",
       "      <td>*</td>\n",
       "    </tr>\n",
       "    <tr>\n",
       "      <th>5253</th>\n",
       "      <td>0</td>\n",
       "      <td>0</td>\n",
       "      <td>0</td>\n",
       "      <td>0</td>\n",
       "      <td>0</td>\n",
       "      <td>0</td>\n",
       "      <td>0</td>\n",
       "      <td>0</td>\n",
       "      <td>0</td>\n",
       "      <td>0</td>\n",
       "      <td>0</td>\n",
       "    </tr>\n",
       "    <tr>\n",
       "      <th>5254</th>\n",
       "      <td>61</td>\n",
       "      <td>*</td>\n",
       "      <td>*</td>\n",
       "      <td>*</td>\n",
       "      <td>13.56</td>\n",
       "      <td>1.54</td>\n",
       "      <td>26</td>\n",
       "      <td>0.90</td>\n",
       "      <td>3.59</td>\n",
       "      <td>10</td>\n",
       "      <td>21</td>\n",
       "    </tr>\n",
       "  </tbody>\n",
       "</table>\n",
       "<p>5255 rows × 11 columns</p>\n",
       "</div>"
      ],
      "text/plain": [
       "      P_TOTAL P_0A2 P_3A5 POB65_MAS GRAPROES PROM_HNV  VIVTOT PRO_OCUP_C  \\\n",
       "0          48     *     3         4     8.31     2.50      15       1.02   \n",
       "1          41     *     0         6     9.48     2.40      16       0.85   \n",
       "2          41     3     *         4    10.29     1.88      11       0.87   \n",
       "3          54     *     *         *    10.24     1.82      23       0.72   \n",
       "4          54     3     3         7     9.85     2.33      17       0.78   \n",
       "...       ...   ...   ...       ...      ...      ...     ...        ...   \n",
       "5250        7     0     *         *        2     2.50       5       0.88   \n",
       "5251        0     0     0         0        0        0       0          0   \n",
       "5252        5     *     *         *        *        *       5          *   \n",
       "5253        0     0     0         0        0        0       0          0   \n",
       "5254       61     *     *         *    13.56     1.54      26       0.90   \n",
       "\n",
       "     PROM_OCUP VPH_PC OTRAENT  \n",
       "0         3.43      7      16  \n",
       "1         3.15      4      16  \n",
       "2         4.10      7      16  \n",
       "3         3.18     10      17  \n",
       "4         3.38      7      18  \n",
       "...        ...    ...     ...  \n",
       "5250      2.33      0       5  \n",
       "5251         0      0       0  \n",
       "5252         *      *       *  \n",
       "5253         0      0       0  \n",
       "5254      3.59     10      21  \n",
       "\n",
       "[5255 rows x 11 columns]"
      ]
     },
     "execution_count": 19,
     "metadata": {},
     "output_type": "execute_result"
    }
   ],
   "source": [
    "df_ens_10[limpiar]"
   ]
  },
  {
   "attachments": {},
   "cell_type": "markdown",
   "metadata": {},
   "source": [
    "El unico problema son los asteriscos? o habra otros valores que estorban?"
   ]
  },
  {
   "cell_type": "code",
   "execution_count": 21,
   "metadata": {},
   "outputs": [],
   "source": [
    "#print the values that cannot be converted to float\n",
    "erorrs10 = []\n",
    "for col in limpiar:\n",
    "    for i in df_ens_10[col]:\n",
    "        try:\n",
    "            float(i)\n",
    "        except:\n",
    "            erorrs10.append(i)\n"
   ]
  },
  {
   "cell_type": "code",
   "execution_count": 22,
   "metadata": {},
   "outputs": [
    {
     "data": {
      "text/plain": [
       "array(['*'], dtype=object)"
      ]
     },
     "execution_count": 22,
     "metadata": {},
     "output_type": "execute_result"
    }
   ],
   "source": [
    "pd.Series(erorrs10).unique()"
   ]
  },
  {
   "cell_type": "code",
   "execution_count": 23,
   "metadata": {},
   "outputs": [],
   "source": [
    "#print the values that cannot be converted to float\n",
    "erorrs20 = []\n",
    "for col in limpiar:\n",
    "    for i in df_ens_20[col]:\n",
    "        try:\n",
    "            float(i)\n",
    "        except:\n",
    "            erorrs20.append(i)"
   ]
  },
  {
   "cell_type": "code",
   "execution_count": 24,
   "metadata": {},
   "outputs": [
    {
     "data": {
      "text/plain": [
       "array(['*'], dtype=object)"
      ]
     },
     "execution_count": 24,
     "metadata": {},
     "output_type": "execute_result"
    }
   ],
   "source": [
    "pd.Series(erorrs20).unique()"
   ]
  },
  {
   "attachments": {},
   "cell_type": "markdown",
   "metadata": {},
   "source": [
    "Solo hay *"
   ]
  },
  {
   "cell_type": "code",
   "execution_count": 25,
   "metadata": {},
   "outputs": [],
   "source": [
    "#replace * with the last value\n",
    "for col in limpiar:\n",
    "    df_ens_10[col] = df_ens_10[col].replace('*', np.nan)\n",
    "    df_ens_10[col] = df_ens_10[col].fillna(method='ffill')\n",
    "    df_ens_10[col] = df_ens_10[col].fillna(method='bfill')\n",
    "\n",
    "\n",
    "#replace * with the last value\n",
    "for col in limpiar:\n",
    "    df_ens_20[col] = df_ens_20[col].replace('*', np.nan)\n",
    "    df_ens_20[col] = df_ens_20[col].fillna(method='ffill')\n",
    "    df_ens_20[col] = df_ens_20[col].fillna(method='bfill')"
   ]
  },
  {
   "cell_type": "code",
   "execution_count": 26,
   "metadata": {},
   "outputs": [],
   "source": [
    "#convert to float the columns in limpiar\n",
    "for col in limpiar:\n",
    "    df_ens_10[col] = df_ens_10[col].astype(float)\n",
    "\n",
    "#convert to float the columns in limpiar\n",
    "for col in limpiar:\n",
    "    df_ens_20[col] = df_ens_20[col].astype(float)"
   ]
  },
  {
   "cell_type": "code",
   "execution_count": 27,
   "metadata": {},
   "outputs": [
    {
     "name": "stdout",
     "output_type": "stream",
     "text": [
      "<class 'pandas.core.frame.DataFrame'>\n",
      "Int64Index: 5255 entries, 0 to 5254\n",
      "Data columns (total 11 columns):\n",
      " #   Column      Non-Null Count  Dtype  \n",
      "---  ------      --------------  -----  \n",
      " 0   P_TOTAL     5255 non-null   float64\n",
      " 1   P_0A2       5255 non-null   float64\n",
      " 2   P_3A5       5255 non-null   float64\n",
      " 3   POB65_MAS   5255 non-null   float64\n",
      " 4   GRAPROES    5255 non-null   float64\n",
      " 5   PROM_HNV    5255 non-null   float64\n",
      " 6   VIVTOT      5255 non-null   float64\n",
      " 7   PRO_OCUP_C  5255 non-null   float64\n",
      " 8   PROM_OCUP   5255 non-null   float64\n",
      " 9   VPH_PC      5255 non-null   float64\n",
      " 10  OTRAENT     5255 non-null   float64\n",
      "dtypes: float64(11)\n",
      "memory usage: 492.7 KB\n"
     ]
    }
   ],
   "source": [
    "df_ens_10[limpiar].info()"
   ]
  },
  {
   "cell_type": "code",
   "execution_count": 28,
   "metadata": {},
   "outputs": [
    {
     "name": "stdout",
     "output_type": "stream",
     "text": [
      "<class 'pandas.core.frame.DataFrame'>\n",
      "Int64Index: 5987 entries, 0 to 6006\n",
      "Data columns (total 11 columns):\n",
      " #   Column      Non-Null Count  Dtype  \n",
      "---  ------      --------------  -----  \n",
      " 0   P_TOTAL     5987 non-null   float64\n",
      " 1   P_0A2       5987 non-null   float64\n",
      " 2   P_3A5       5987 non-null   float64\n",
      " 3   POB65_MAS   5987 non-null   float64\n",
      " 4   GRAPROES    5987 non-null   float64\n",
      " 5   PROM_HNV    5987 non-null   float64\n",
      " 6   VIVTOT      5987 non-null   float64\n",
      " 7   PRO_OCUP_C  5987 non-null   float64\n",
      " 8   PROM_OCUP   5987 non-null   float64\n",
      " 9   VPH_PC      5987 non-null   float64\n",
      " 10  OTRAENT     5987 non-null   float64\n",
      "dtypes: float64(11)\n",
      "memory usage: 561.3 KB\n"
     ]
    }
   ],
   "source": [
    "df_ens_20[limpiar].info()"
   ]
  },
  {
   "attachments": {},
   "cell_type": "markdown",
   "metadata": {},
   "source": [
    "vamos a descargar nuestros csv's limpios"
   ]
  },
  {
   "cell_type": "code",
   "execution_count": 29,
   "metadata": {},
   "outputs": [],
   "source": [
    "#download the cleaned data\n",
    "df_ens_10.to_csv('DATA/ENS_CLEAN_10.csv')\n",
    "df_ens_20.to_csv('DATA/ENS_CLEAN_20.csv')"
   ]
  },
  {
   "cell_type": "code",
   "execution_count": null,
   "metadata": {},
   "outputs": [],
   "source": []
  }
 ],
 "metadata": {
  "kernelspec": {
   "display_name": "Python 3",
   "language": "python",
   "name": "python3"
  },
  "language_info": {
   "codemirror_mode": {
    "name": "ipython",
    "version": 3
   },
   "file_extension": ".py",
   "mimetype": "text/x-python",
   "name": "python",
   "nbconvert_exporter": "python",
   "pygments_lexer": "ipython3",
   "version": "3.11.0"
  },
  "orig_nbformat": 4
 },
 "nbformat": 4,
 "nbformat_minor": 2
}
