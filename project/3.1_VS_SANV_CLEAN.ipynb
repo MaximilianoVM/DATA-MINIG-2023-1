{
 "cells": [
  {
   "cell_type": "code",
   "execution_count": 1,
   "metadata": {},
   "outputs": [],
   "source": [
    "import numpy as np\n",
    "import pandas as pd\n",
    "import matplotlib.pyplot as plts\n",
    "\n",
    "%matplotlib inline"
   ]
  },
  {
   "cell_type": "code",
   "execution_count": 2,
   "metadata": {},
   "outputs": [],
   "source": [
    "df10 = pd.read_csv('DATA/clean10.csv', index_col=0)\n",
    "df20 = pd.read_csv('DATA/clean20.csv', index_col=0)"
   ]
  },
  {
   "attachments": {},
   "cell_type": "markdown",
   "metadata": {},
   "source": [
    "nos limitamos a san vicente"
   ]
  },
  {
   "cell_type": "code",
   "execution_count": 3,
   "metadata": {},
   "outputs": [],
   "source": [
    "sv20 = df20[df20['NOM_LOC']=='San Vicente']\n",
    "sv10 = df10[df10['NOM_LOC']=='San Vicente']"
   ]
  },
  {
   "cell_type": "code",
   "execution_count": 4,
   "metadata": {},
   "outputs": [
    {
     "data": {
      "text/plain": [
       "820A    43\n",
       "8197    40\n",
       "8182    36\n",
       "8178    35\n",
       "2287    12\n",
       "1819     1\n",
       "Name: AGEB, dtype: int64"
      ]
     },
     "execution_count": 4,
     "metadata": {},
     "output_type": "execute_result"
    }
   ],
   "source": [
    "sv20['AGEB'].value_counts()"
   ]
  },
  {
   "cell_type": "code",
   "execution_count": 5,
   "metadata": {},
   "outputs": [
    {
     "data": {
      "text/plain": [
       "8197    41\n",
       "820A    41\n",
       "8182    37\n",
       "8178    36\n",
       "1819     1\n",
       "Name: AGEB, dtype: int64"
      ]
     },
     "execution_count": 5,
     "metadata": {},
     "output_type": "execute_result"
    }
   ],
   "source": [
    "sv10['AGEB'].value_counts()"
   ]
  },
  {
   "attachments": {},
   "cell_type": "markdown",
   "metadata": {},
   "source": [
    "renombramos PNACOE"
   ]
  },
  {
   "cell_type": "code",
   "execution_count": 6,
   "metadata": {},
   "outputs": [
    {
     "name": "stderr",
     "output_type": "stream",
     "text": [
      "C:\\Users\\Usuario\\AppData\\Local\\Temp\\ipykernel_12392\\1919035534.py:2: SettingWithCopyWarning: \n",
      "A value is trying to be set on a copy of a slice from a DataFrame\n",
      "\n",
      "See the caveats in the documentation: https://pandas.pydata.org/pandas-docs/stable/user_guide/indexing.html#returning-a-view-versus-a-copy\n",
      "  sv10.rename(columns={'PNACOE':'OTRAENT'}, inplace=True)\n",
      "C:\\Users\\Usuario\\AppData\\Local\\Temp\\ipykernel_12392\\1919035534.py:4: SettingWithCopyWarning: \n",
      "A value is trying to be set on a copy of a slice from a DataFrame\n",
      "\n",
      "See the caveats in the documentation: https://pandas.pydata.org/pandas-docs/stable/user_guide/indexing.html#returning-a-view-versus-a-copy\n",
      "  sv20.rename(columns={'PNACOE':'OTRAENT'}, inplace=True)\n"
     ]
    }
   ],
   "source": [
    "#rename column PNACOE for OTRAENT\n",
    "sv10.rename(columns={'PNACOE':'OTRAENT'}, inplace=True)\n",
    "\n",
    "sv20.rename(columns={'PNACOE':'OTRAENT'}, inplace=True)"
   ]
  },
  {
   "attachments": {},
   "cell_type": "markdown",
   "metadata": {},
   "source": [
    "LIMPIAR"
   ]
  },
  {
   "cell_type": "code",
   "execution_count": 7,
   "metadata": {},
   "outputs": [],
   "source": [
    "limpiar = ['P_TOTAL', 'P_0A2', 'P_3A5', 'POB65_MAS', 'GRAPROES', 'PROM_HNV', 'VIVTOT', 'PRO_OCUP_C', 'PROM_OCUP', 'VPH_PC', 'OTRAENT']"
   ]
  },
  {
   "attachments": {},
   "cell_type": "markdown",
   "metadata": {},
   "source": [
    "vamos a llenar los *, primero reemplazando por el valor anterior, y luego con el siguiente para que no quede ninguno"
   ]
  },
  {
   "cell_type": "code",
   "execution_count": 8,
   "metadata": {},
   "outputs": [
    {
     "name": "stderr",
     "output_type": "stream",
     "text": [
      "C:\\Users\\Usuario\\AppData\\Local\\Temp\\ipykernel_12392\\1031587349.py:3: SettingWithCopyWarning: \n",
      "A value is trying to be set on a copy of a slice from a DataFrame.\n",
      "Try using .loc[row_indexer,col_indexer] = value instead\n",
      "\n",
      "See the caveats in the documentation: https://pandas.pydata.org/pandas-docs/stable/user_guide/indexing.html#returning-a-view-versus-a-copy\n",
      "  sv10[col] = sv10[col].replace('*', np.nan)\n",
      "C:\\Users\\Usuario\\AppData\\Local\\Temp\\ipykernel_12392\\1031587349.py:4: SettingWithCopyWarning: \n",
      "A value is trying to be set on a copy of a slice from a DataFrame.\n",
      "Try using .loc[row_indexer,col_indexer] = value instead\n",
      "\n",
      "See the caveats in the documentation: https://pandas.pydata.org/pandas-docs/stable/user_guide/indexing.html#returning-a-view-versus-a-copy\n",
      "  sv10[col] = sv10[col].fillna(method='ffill')\n",
      "C:\\Users\\Usuario\\AppData\\Local\\Temp\\ipykernel_12392\\1031587349.py:5: SettingWithCopyWarning: \n",
      "A value is trying to be set on a copy of a slice from a DataFrame.\n",
      "Try using .loc[row_indexer,col_indexer] = value instead\n",
      "\n",
      "See the caveats in the documentation: https://pandas.pydata.org/pandas-docs/stable/user_guide/indexing.html#returning-a-view-versus-a-copy\n",
      "  sv10[col] = sv10[col].fillna(method='bfill')\n",
      "C:\\Users\\Usuario\\AppData\\Local\\Temp\\ipykernel_12392\\1031587349.py:9: SettingWithCopyWarning: \n",
      "A value is trying to be set on a copy of a slice from a DataFrame.\n",
      "Try using .loc[row_indexer,col_indexer] = value instead\n",
      "\n",
      "See the caveats in the documentation: https://pandas.pydata.org/pandas-docs/stable/user_guide/indexing.html#returning-a-view-versus-a-copy\n",
      "  sv20[col] = sv20[col].replace('*', np.nan)\n",
      "C:\\Users\\Usuario\\AppData\\Local\\Temp\\ipykernel_12392\\1031587349.py:10: SettingWithCopyWarning: \n",
      "A value is trying to be set on a copy of a slice from a DataFrame.\n",
      "Try using .loc[row_indexer,col_indexer] = value instead\n",
      "\n",
      "See the caveats in the documentation: https://pandas.pydata.org/pandas-docs/stable/user_guide/indexing.html#returning-a-view-versus-a-copy\n",
      "  sv20[col] = sv20[col].fillna(method='ffill')\n",
      "C:\\Users\\Usuario\\AppData\\Local\\Temp\\ipykernel_12392\\1031587349.py:11: SettingWithCopyWarning: \n",
      "A value is trying to be set on a copy of a slice from a DataFrame.\n",
      "Try using .loc[row_indexer,col_indexer] = value instead\n",
      "\n",
      "See the caveats in the documentation: https://pandas.pydata.org/pandas-docs/stable/user_guide/indexing.html#returning-a-view-versus-a-copy\n",
      "  sv20[col] = sv20[col].fillna(method='bfill')\n"
     ]
    }
   ],
   "source": [
    "#replace * with the last value\n",
    "for col in limpiar:\n",
    "    sv10[col] = sv10[col].replace('*', np.nan)\n",
    "    sv10[col] = sv10[col].fillna(method='ffill')\n",
    "    sv10[col] = sv10[col].fillna(method='bfill')\n",
    "\n",
    "#replace * with the last value\n",
    "for col in limpiar:\n",
    "    sv20[col] = sv20[col].replace('*', np.nan)\n",
    "    sv20[col] = sv20[col].fillna(method='ffill')\n",
    "    sv20[col] = sv20[col].fillna(method='bfill')"
   ]
  },
  {
   "attachments": {},
   "cell_type": "markdown",
   "metadata": {},
   "source": [
    "ahora si podemos convertir a float"
   ]
  },
  {
   "cell_type": "code",
   "execution_count": 9,
   "metadata": {},
   "outputs": [
    {
     "name": "stderr",
     "output_type": "stream",
     "text": [
      "C:\\Users\\Usuario\\AppData\\Local\\Temp\\ipykernel_12392\\1714438707.py:3: SettingWithCopyWarning: \n",
      "A value is trying to be set on a copy of a slice from a DataFrame.\n",
      "Try using .loc[row_indexer,col_indexer] = value instead\n",
      "\n",
      "See the caveats in the documentation: https://pandas.pydata.org/pandas-docs/stable/user_guide/indexing.html#returning-a-view-versus-a-copy\n",
      "  sv10[col] = sv10[col].astype(float)\n",
      "C:\\Users\\Usuario\\AppData\\Local\\Temp\\ipykernel_12392\\1714438707.py:7: SettingWithCopyWarning: \n",
      "A value is trying to be set on a copy of a slice from a DataFrame.\n",
      "Try using .loc[row_indexer,col_indexer] = value instead\n",
      "\n",
      "See the caveats in the documentation: https://pandas.pydata.org/pandas-docs/stable/user_guide/indexing.html#returning-a-view-versus-a-copy\n",
      "  sv20[col] = sv20[col].astype(float)\n"
     ]
    }
   ],
   "source": [
    "#convert to float the columns in limpiar\n",
    "for col in limpiar:\n",
    "    sv10[col] = sv10[col].astype(float)\n",
    "\n",
    "#convert to float the columns in limpiar\n",
    "for col in limpiar:\n",
    "    sv20[col] = sv20[col].astype(float)\n",
    "    "
   ]
  },
  {
   "cell_type": "code",
   "execution_count": 10,
   "metadata": {},
   "outputs": [
    {
     "name": "stdout",
     "output_type": "stream",
     "text": [
      "<class 'pandas.core.frame.DataFrame'>\n",
      "Int64Index: 156 entries, 7236 to 7395\n",
      "Data columns (total 16 columns):\n",
      " #   Column      Non-Null Count  Dtype  \n",
      "---  ------      --------------  -----  \n",
      " 0   NOM_MUN     156 non-null    object \n",
      " 1   LOC         156 non-null    int64  \n",
      " 2   NOM_LOC     156 non-null    object \n",
      " 3   AGEB        156 non-null    object \n",
      " 4   MZA         156 non-null    int64  \n",
      " 5   P_TOTAL     156 non-null    float64\n",
      " 6   P_0A2       156 non-null    float64\n",
      " 7   P_3A5       156 non-null    float64\n",
      " 8   POB65_MAS   156 non-null    float64\n",
      " 9   GRAPROES    156 non-null    float64\n",
      " 10  PROM_HNV    156 non-null    float64\n",
      " 11  VIVTOT      156 non-null    float64\n",
      " 12  PRO_OCUP_C  156 non-null    float64\n",
      " 13  PROM_OCUP   156 non-null    float64\n",
      " 14  VPH_PC      156 non-null    float64\n",
      " 15  OTRAENT     156 non-null    float64\n",
      "dtypes: float64(11), int64(2), object(3)\n",
      "memory usage: 20.7+ KB\n"
     ]
    }
   ],
   "source": [
    "sv10.info()"
   ]
  },
  {
   "attachments": {},
   "cell_type": "markdown",
   "metadata": {},
   "source": [
    "necesitamos edad de 0 a 5, entonces sumamos 0 a 2 y 3 a 5"
   ]
  },
  {
   "cell_type": "code",
   "execution_count": 11,
   "metadata": {},
   "outputs": [
    {
     "name": "stderr",
     "output_type": "stream",
     "text": [
      "C:\\Users\\Usuario\\AppData\\Local\\Temp\\ipykernel_12392\\249945056.py:2: SettingWithCopyWarning: \n",
      "A value is trying to be set on a copy of a slice from a DataFrame.\n",
      "Try using .loc[row_indexer,col_indexer] = value instead\n",
      "\n",
      "See the caveats in the documentation: https://pandas.pydata.org/pandas-docs/stable/user_guide/indexing.html#returning-a-view-versus-a-copy\n",
      "  sv10['P_0A5'] = sv10['P_0A2'] + sv10['P_3A5']\n",
      "C:\\Users\\Usuario\\AppData\\Local\\Temp\\ipykernel_12392\\249945056.py:7: SettingWithCopyWarning: \n",
      "A value is trying to be set on a copy of a slice from a DataFrame.\n",
      "Try using .loc[row_indexer,col_indexer] = value instead\n",
      "\n",
      "See the caveats in the documentation: https://pandas.pydata.org/pandas-docs/stable/user_guide/indexing.html#returning-a-view-versus-a-copy\n",
      "  sv20['P_0A5'] = sv20['P_0A2'] + sv20['P_3A5']\n"
     ]
    }
   ],
   "source": [
    "#10: sumamos los valores de los campos de edad\n",
    "sv10['P_0A5'] = sv10['P_0A2'] + sv10['P_3A5']\n",
    "#borramos los sumados\n",
    "sv10 = sv10.drop(['P_0A2', 'P_3A5'], axis=1)\n",
    "\n",
    "#20: sumamos los valores de los campos de edad\n",
    "sv20['P_0A5'] = sv20['P_0A2'] + sv20['P_3A5']\n",
    "#borramos los sumados\n",
    "sv20 = sv20.drop(['P_0A2', 'P_3A5'], axis=1)\n"
   ]
  },
  {
   "attachments": {},
   "cell_type": "markdown",
   "metadata": {},
   "source": [
    "recordemos que nuestro analisis es por agebs, entonces agrupamos por ageb\n"
   ]
  },
  {
   "cell_type": "code",
   "execution_count": 12,
   "metadata": {},
   "outputs": [
    {
     "data": {
      "text/plain": [
       "{'NOM_MUN': 'first',\n",
       " 'LOC': 'first',\n",
       " 'NOM_LOC': 'first',\n",
       " 'AGEB': 'first',\n",
       " 'MZA': 'first',\n",
       " 'P_TOTAL': 'sum',\n",
       " 'POB65_MAS': 'sum',\n",
       " 'GRAPROES': 'mean',\n",
       " 'PROM_HNV': 'mean',\n",
       " 'VIVTOT': 'sum',\n",
       " 'PRO_OCUP_C': 'mean',\n",
       " 'PROM_OCUP': 'mean',\n",
       " 'VPH_PC': 'sum',\n",
       " 'OTRAENT': 'sum',\n",
       " 'P_0A5': 'sum'}"
      ]
     },
     "execution_count": 12,
     "metadata": {},
     "output_type": "execute_result"
    }
   ],
   "source": [
    "agg_dict = {}\n",
    "\n",
    "#le ponemos suma a todos los que no sean object\n",
    "for col in sv20.columns.tolist():\n",
    "    if sv20[col].dtype == np.dtype('float64'):\n",
    "        agg_dict[col] = 'sum'\n",
    "    else:\n",
    "        agg_dict[col] = 'first'\n",
    "\n",
    "#les ponemos media a los que correspondan\n",
    "media = ['GRAPROES', 'PROM_HNV', 'PRO_OCUP_C', 'PROM_OCUP']\n",
    "\n",
    "for col in media:\n",
    "    agg_dict[col] = 'mean'\n",
    "\n",
    "agg_dict"
   ]
  },
  {
   "attachments": {},
   "cell_type": "markdown",
   "metadata": {},
   "source": [
    "aplicamos las funciones"
   ]
  },
  {
   "cell_type": "code",
   "execution_count": 13,
   "metadata": {},
   "outputs": [],
   "source": [
    "sv10_agebs = sv10.groupby('AGEB', as_index=False).agg(agg_dict)\n",
    "sv20_agebs = sv20.groupby('AGEB', as_index=False).agg(agg_dict)"
   ]
  },
  {
   "attachments": {},
   "cell_type": "markdown",
   "metadata": {},
   "source": [
    "coincidimos agebs"
   ]
  },
  {
   "cell_type": "code",
   "execution_count": 14,
   "metadata": {},
   "outputs": [],
   "source": [
    "#delete agebs that are in sv20 but not in sv10\n",
    "sv20_agebs = sv20_agebs[sv20_agebs['AGEB'].isin(sv10_agebs['AGEB'])]"
   ]
  },
  {
   "cell_type": "code",
   "execution_count": 15,
   "metadata": {},
   "outputs": [
    {
     "name": "stdout",
     "output_type": "stream",
     "text": [
      "True\n"
     ]
    }
   ],
   "source": [
    "print (sv20_agebs['AGEB'].count() == sv10_agebs['AGEB'].count())"
   ]
  },
  {
   "attachments": {},
   "cell_type": "markdown",
   "metadata": {},
   "source": [
    "limpiar para WEKA"
   ]
  },
  {
   "cell_type": "code",
   "execution_count": 16,
   "metadata": {},
   "outputs": [],
   "source": [
    "import unidecode # for removing accents from column names\n",
    "\n",
    "#remove accents from column names\n",
    "sv10_agebs.columns = [unidecode.unidecode(c) for c in sv10_agebs.columns]\n",
    "sv20_agebs.columns = [unidecode.unidecode(c) for c in sv20_agebs.columns]\n"
   ]
  },
  {
   "cell_type": "code",
   "execution_count": 17,
   "metadata": {},
   "outputs": [],
   "source": [
    "# save the cleaned data as a CSV file\n",
    "sv10_agebs.to_csv('DATA/SANV_AGEBS_10.csv', index=False)\n",
    "sv20_agebs.to_csv('DATA/SANV_AGEBS_20.csv', index=False)\n"
   ]
  },
  {
   "cell_type": "code",
   "execution_count": 18,
   "metadata": {},
   "outputs": [
    {
     "data": {
      "text/html": [
       "<div>\n",
       "<style scoped>\n",
       "    .dataframe tbody tr th:only-of-type {\n",
       "        vertical-align: middle;\n",
       "    }\n",
       "\n",
       "    .dataframe tbody tr th {\n",
       "        vertical-align: top;\n",
       "    }\n",
       "\n",
       "    .dataframe thead th {\n",
       "        text-align: right;\n",
       "    }\n",
       "</style>\n",
       "<table border=\"1\" class=\"dataframe\">\n",
       "  <thead>\n",
       "    <tr style=\"text-align: right;\">\n",
       "      <th></th>\n",
       "      <th>NOM_MUN</th>\n",
       "      <th>LOC</th>\n",
       "      <th>NOM_LOC</th>\n",
       "      <th>AGEB</th>\n",
       "      <th>MZA</th>\n",
       "      <th>P_TOTAL</th>\n",
       "      <th>POB65_MAS</th>\n",
       "      <th>GRAPROES</th>\n",
       "      <th>PROM_HNV</th>\n",
       "      <th>VIVTOT</th>\n",
       "      <th>PRO_OCUP_C</th>\n",
       "      <th>PROM_OCUP</th>\n",
       "      <th>VPH_PC</th>\n",
       "      <th>OTRAENT</th>\n",
       "      <th>P_0A5</th>\n",
       "    </tr>\n",
       "  </thead>\n",
       "  <tbody>\n",
       "    <tr>\n",
       "      <th>0</th>\n",
       "      <td>Ensenada</td>\n",
       "      <td>243</td>\n",
       "      <td>San Vicente</td>\n",
       "      <td>1819</td>\n",
       "      <td>1</td>\n",
       "      <td>9.0</td>\n",
       "      <td>4.0</td>\n",
       "      <td>6.880000</td>\n",
       "      <td>1.830000</td>\n",
       "      <td>2.0</td>\n",
       "      <td>1.000000</td>\n",
       "      <td>2.780000</td>\n",
       "      <td>3.0</td>\n",
       "      <td>18.0</td>\n",
       "      <td>8.0</td>\n",
       "    </tr>\n",
       "    <tr>\n",
       "      <th>1</th>\n",
       "      <td>Ensenada</td>\n",
       "      <td>243</td>\n",
       "      <td>San Vicente</td>\n",
       "      <td>8178</td>\n",
       "      <td>1</td>\n",
       "      <td>855.0</td>\n",
       "      <td>65.0</td>\n",
       "      <td>5.959444</td>\n",
       "      <td>2.565278</td>\n",
       "      <td>324.0</td>\n",
       "      <td>0.901944</td>\n",
       "      <td>3.193056</td>\n",
       "      <td>92.0</td>\n",
       "      <td>406.0</td>\n",
       "      <td>121.0</td>\n",
       "    </tr>\n",
       "    <tr>\n",
       "      <th>2</th>\n",
       "      <td>Ensenada</td>\n",
       "      <td>243</td>\n",
       "      <td>San Vicente</td>\n",
       "      <td>8182</td>\n",
       "      <td>1</td>\n",
       "      <td>944.0</td>\n",
       "      <td>74.0</td>\n",
       "      <td>6.354865</td>\n",
       "      <td>2.498108</td>\n",
       "      <td>330.0</td>\n",
       "      <td>1.087027</td>\n",
       "      <td>3.557297</td>\n",
       "      <td>46.0</td>\n",
       "      <td>396.0</td>\n",
       "      <td>141.0</td>\n",
       "    </tr>\n",
       "    <tr>\n",
       "      <th>3</th>\n",
       "      <td>Ensenada</td>\n",
       "      <td>243</td>\n",
       "      <td>San Vicente</td>\n",
       "      <td>8197</td>\n",
       "      <td>1</td>\n",
       "      <td>1074.0</td>\n",
       "      <td>39.0</td>\n",
       "      <td>6.283415</td>\n",
       "      <td>2.369512</td>\n",
       "      <td>342.0</td>\n",
       "      <td>1.061463</td>\n",
       "      <td>3.398537</td>\n",
       "      <td>81.0</td>\n",
       "      <td>485.0</td>\n",
       "      <td>165.0</td>\n",
       "    </tr>\n",
       "    <tr>\n",
       "      <th>4</th>\n",
       "      <td>Ensenada</td>\n",
       "      <td>243</td>\n",
       "      <td>San Vicente</td>\n",
       "      <td>820A</td>\n",
       "      <td>1</td>\n",
       "      <td>1480.0</td>\n",
       "      <td>56.0</td>\n",
       "      <td>6.663415</td>\n",
       "      <td>2.344146</td>\n",
       "      <td>494.0</td>\n",
       "      <td>0.923171</td>\n",
       "      <td>3.166341</td>\n",
       "      <td>117.0</td>\n",
       "      <td>645.0</td>\n",
       "      <td>271.0</td>\n",
       "    </tr>\n",
       "  </tbody>\n",
       "</table>\n",
       "</div>"
      ],
      "text/plain": [
       "    NOM_MUN  LOC      NOM_LOC  AGEB  MZA  P_TOTAL  POB65_MAS  GRAPROES  \\\n",
       "0  Ensenada  243  San Vicente  1819    1      9.0        4.0  6.880000   \n",
       "1  Ensenada  243  San Vicente  8178    1    855.0       65.0  5.959444   \n",
       "2  Ensenada  243  San Vicente  8182    1    944.0       74.0  6.354865   \n",
       "3  Ensenada  243  San Vicente  8197    1   1074.0       39.0  6.283415   \n",
       "4  Ensenada  243  San Vicente  820A    1   1480.0       56.0  6.663415   \n",
       "\n",
       "   PROM_HNV  VIVTOT  PRO_OCUP_C  PROM_OCUP  VPH_PC  OTRAENT  P_0A5  \n",
       "0  1.830000     2.0    1.000000   2.780000     3.0     18.0    8.0  \n",
       "1  2.565278   324.0    0.901944   3.193056    92.0    406.0  121.0  \n",
       "2  2.498108   330.0    1.087027   3.557297    46.0    396.0  141.0  \n",
       "3  2.369512   342.0    1.061463   3.398537    81.0    485.0  165.0  \n",
       "4  2.344146   494.0    0.923171   3.166341   117.0    645.0  271.0  "
      ]
     },
     "execution_count": 18,
     "metadata": {},
     "output_type": "execute_result"
    }
   ],
   "source": [
    "sv10_agebs"
   ]
  },
  {
   "cell_type": "code",
   "execution_count": 19,
   "metadata": {},
   "outputs": [
    {
     "data": {
      "text/html": [
       "<div>\n",
       "<style scoped>\n",
       "    .dataframe tbody tr th:only-of-type {\n",
       "        vertical-align: middle;\n",
       "    }\n",
       "\n",
       "    .dataframe tbody tr th {\n",
       "        vertical-align: top;\n",
       "    }\n",
       "\n",
       "    .dataframe thead th {\n",
       "        text-align: right;\n",
       "    }\n",
       "</style>\n",
       "<table border=\"1\" class=\"dataframe\">\n",
       "  <thead>\n",
       "    <tr style=\"text-align: right;\">\n",
       "      <th></th>\n",
       "      <th>NOM_MUN</th>\n",
       "      <th>LOC</th>\n",
       "      <th>NOM_LOC</th>\n",
       "      <th>AGEB</th>\n",
       "      <th>MZA</th>\n",
       "      <th>P_TOTAL</th>\n",
       "      <th>POB65_MAS</th>\n",
       "      <th>GRAPROES</th>\n",
       "      <th>PROM_HNV</th>\n",
       "      <th>VIVTOT</th>\n",
       "      <th>PRO_OCUP_C</th>\n",
       "      <th>PROM_OCUP</th>\n",
       "      <th>VPH_PC</th>\n",
       "      <th>OTRAENT</th>\n",
       "      <th>P_0A5</th>\n",
       "    </tr>\n",
       "  </thead>\n",
       "  <tbody>\n",
       "    <tr>\n",
       "      <th>0</th>\n",
       "      <td>Ensenada</td>\n",
       "      <td>243</td>\n",
       "      <td>San Vicente</td>\n",
       "      <td>1819</td>\n",
       "      <td>1</td>\n",
       "      <td>34.0</td>\n",
       "      <td>0.0</td>\n",
       "      <td>8.170000</td>\n",
       "      <td>2.500000</td>\n",
       "      <td>9.0</td>\n",
       "      <td>1.060000</td>\n",
       "      <td>3.780000</td>\n",
       "      <td>3.0</td>\n",
       "      <td>18.0</td>\n",
       "      <td>10.0</td>\n",
       "    </tr>\n",
       "    <tr>\n",
       "      <th>2</th>\n",
       "      <td>Ensenada</td>\n",
       "      <td>243</td>\n",
       "      <td>San Vicente</td>\n",
       "      <td>8178</td>\n",
       "      <td>1</td>\n",
       "      <td>942.0</td>\n",
       "      <td>105.0</td>\n",
       "      <td>7.469429</td>\n",
       "      <td>2.596857</td>\n",
       "      <td>396.0</td>\n",
       "      <td>0.888286</td>\n",
       "      <td>3.087714</td>\n",
       "      <td>137.0</td>\n",
       "      <td>456.0</td>\n",
       "      <td>136.0</td>\n",
       "    </tr>\n",
       "    <tr>\n",
       "      <th>3</th>\n",
       "      <td>Ensenada</td>\n",
       "      <td>243</td>\n",
       "      <td>San Vicente</td>\n",
       "      <td>8182</td>\n",
       "      <td>1</td>\n",
       "      <td>1009.0</td>\n",
       "      <td>115.0</td>\n",
       "      <td>6.874167</td>\n",
       "      <td>2.254444</td>\n",
       "      <td>421.0</td>\n",
       "      <td>0.879722</td>\n",
       "      <td>2.973333</td>\n",
       "      <td>71.0</td>\n",
       "      <td>451.0</td>\n",
       "      <td>71.0</td>\n",
       "    </tr>\n",
       "    <tr>\n",
       "      <th>4</th>\n",
       "      <td>Ensenada</td>\n",
       "      <td>243</td>\n",
       "      <td>San Vicente</td>\n",
       "      <td>8197</td>\n",
       "      <td>1</td>\n",
       "      <td>1096.0</td>\n",
       "      <td>56.0</td>\n",
       "      <td>7.365250</td>\n",
       "      <td>2.350750</td>\n",
       "      <td>548.0</td>\n",
       "      <td>0.900500</td>\n",
       "      <td>3.056750</td>\n",
       "      <td>119.0</td>\n",
       "      <td>491.0</td>\n",
       "      <td>118.0</td>\n",
       "    </tr>\n",
       "    <tr>\n",
       "      <th>5</th>\n",
       "      <td>Ensenada</td>\n",
       "      <td>243</td>\n",
       "      <td>San Vicente</td>\n",
       "      <td>820A</td>\n",
       "      <td>1</td>\n",
       "      <td>1622.0</td>\n",
       "      <td>140.0</td>\n",
       "      <td>7.313721</td>\n",
       "      <td>2.067209</td>\n",
       "      <td>673.0</td>\n",
       "      <td>0.782326</td>\n",
       "      <td>2.836744</td>\n",
       "      <td>161.0</td>\n",
       "      <td>613.0</td>\n",
       "      <td>278.0</td>\n",
       "    </tr>\n",
       "  </tbody>\n",
       "</table>\n",
       "</div>"
      ],
      "text/plain": [
       "    NOM_MUN  LOC      NOM_LOC  AGEB  MZA  P_TOTAL  POB65_MAS  GRAPROES  \\\n",
       "0  Ensenada  243  San Vicente  1819    1     34.0        0.0  8.170000   \n",
       "2  Ensenada  243  San Vicente  8178    1    942.0      105.0  7.469429   \n",
       "3  Ensenada  243  San Vicente  8182    1   1009.0      115.0  6.874167   \n",
       "4  Ensenada  243  San Vicente  8197    1   1096.0       56.0  7.365250   \n",
       "5  Ensenada  243  San Vicente  820A    1   1622.0      140.0  7.313721   \n",
       "\n",
       "   PROM_HNV  VIVTOT  PRO_OCUP_C  PROM_OCUP  VPH_PC  OTRAENT  P_0A5  \n",
       "0  2.500000     9.0    1.060000   3.780000     3.0     18.0   10.0  \n",
       "2  2.596857   396.0    0.888286   3.087714   137.0    456.0  136.0  \n",
       "3  2.254444   421.0    0.879722   2.973333    71.0    451.0   71.0  \n",
       "4  2.350750   548.0    0.900500   3.056750   119.0    491.0  118.0  \n",
       "5  2.067209   673.0    0.782326   2.836744   161.0    613.0  278.0  "
      ]
     },
     "execution_count": 19,
     "metadata": {},
     "output_type": "execute_result"
    }
   ],
   "source": [
    "sv20_agebs"
   ]
  },
  {
   "cell_type": "code",
   "execution_count": null,
   "metadata": {},
   "outputs": [],
   "source": []
  }
 ],
 "metadata": {
  "kernelspec": {
   "display_name": "Python 3",
   "language": "python",
   "name": "python3"
  },
  "language_info": {
   "codemirror_mode": {
    "name": "ipython",
    "version": 3
   },
   "file_extension": ".py",
   "mimetype": "text/x-python",
   "name": "python",
   "nbconvert_exporter": "python",
   "pygments_lexer": "ipython3",
   "version": "3.11.0"
  },
  "orig_nbformat": 4
 },
 "nbformat": 4,
 "nbformat_minor": 2
}
