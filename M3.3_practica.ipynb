{
 "cells": [
  {
   "cell_type": "code",
   "execution_count": 3,
   "metadata": {},
   "outputs": [],
   "source": [
    "import pandas as pd"
   ]
  },
  {
   "attachments": {},
   "cell_type": "markdown",
   "metadata": {},
   "source": [
    "<h3> PREGUNTA 1 </h3>\n",
    "\n",
    "Calculate the following statistics for the variable Age from the Table: </br>\n",
    "a. Mode         d. Range                    g. z-score </br>\n",
    "b. Median       e. Variance                 h. Skewness </br>\n",
    "c. Mean         f. Standard deviation       i. Kurtosis </br>"
   ]
  },
  {
   "cell_type": "code",
   "execution_count": 4,
   "metadata": {},
   "outputs": [],
   "source": [
    "data = {'name': ['P. Lee', 'R. Jones', 'J. Smith', 'A. Patel', 'D. Trumph', 'G. George', 'J. Biden', 'N. Cook', 'P. Rice', 'J. Smith'],\n",
    "        'age': [34, 41, 36, 39, 40, 72, 67, 56, 41, 49]}\n"
   ]
  },
  {
   "cell_type": "code",
   "execution_count": 5,
   "metadata": {},
   "outputs": [
    {
     "data": {
      "text/html": [
       "<div>\n",
       "<style scoped>\n",
       "    .dataframe tbody tr th:only-of-type {\n",
       "        vertical-align: middle;\n",
       "    }\n",
       "\n",
       "    .dataframe tbody tr th {\n",
       "        vertical-align: top;\n",
       "    }\n",
       "\n",
       "    .dataframe thead th {\n",
       "        text-align: right;\n",
       "    }\n",
       "</style>\n",
       "<table border=\"1\" class=\"dataframe\">\n",
       "  <thead>\n",
       "    <tr style=\"text-align: right;\">\n",
       "      <th></th>\n",
       "      <th>name</th>\n",
       "      <th>age</th>\n",
       "    </tr>\n",
       "  </thead>\n",
       "  <tbody>\n",
       "    <tr>\n",
       "      <th>0</th>\n",
       "      <td>P. Lee</td>\n",
       "      <td>34</td>\n",
       "    </tr>\n",
       "    <tr>\n",
       "      <th>1</th>\n",
       "      <td>R. Jones</td>\n",
       "      <td>41</td>\n",
       "    </tr>\n",
       "    <tr>\n",
       "      <th>2</th>\n",
       "      <td>J. Smith</td>\n",
       "      <td>36</td>\n",
       "    </tr>\n",
       "    <tr>\n",
       "      <th>3</th>\n",
       "      <td>A. Patel</td>\n",
       "      <td>39</td>\n",
       "    </tr>\n",
       "    <tr>\n",
       "      <th>4</th>\n",
       "      <td>D. Trumph</td>\n",
       "      <td>40</td>\n",
       "    </tr>\n",
       "    <tr>\n",
       "      <th>5</th>\n",
       "      <td>G. George</td>\n",
       "      <td>72</td>\n",
       "    </tr>\n",
       "    <tr>\n",
       "      <th>6</th>\n",
       "      <td>J. Biden</td>\n",
       "      <td>67</td>\n",
       "    </tr>\n",
       "    <tr>\n",
       "      <th>7</th>\n",
       "      <td>N. Cook</td>\n",
       "      <td>56</td>\n",
       "    </tr>\n",
       "    <tr>\n",
       "      <th>8</th>\n",
       "      <td>P. Rice</td>\n",
       "      <td>41</td>\n",
       "    </tr>\n",
       "    <tr>\n",
       "      <th>9</th>\n",
       "      <td>J. Smith</td>\n",
       "      <td>49</td>\n",
       "    </tr>\n",
       "  </tbody>\n",
       "</table>\n",
       "</div>"
      ],
      "text/plain": [
       "        name  age\n",
       "0     P. Lee   34\n",
       "1   R. Jones   41\n",
       "2   J. Smith   36\n",
       "3   A. Patel   39\n",
       "4  D. Trumph   40\n",
       "5  G. George   72\n",
       "6   J. Biden   67\n",
       "7    N. Cook   56\n",
       "8    P. Rice   41\n",
       "9   J. Smith   49"
      ]
     },
     "execution_count": 5,
     "metadata": {},
     "output_type": "execute_result"
    }
   ],
   "source": [
    "df = pd.DataFrame(data)\n",
    "\n",
    "\n",
    "df"
   ]
  },
  {
   "cell_type": "code",
   "execution_count": 6,
   "metadata": {},
   "outputs": [
    {
     "data": {
      "text/plain": [
       "0    41\n",
       "Name: age, dtype: int64"
      ]
     },
     "execution_count": 6,
     "metadata": {},
     "output_type": "execute_result"
    }
   ],
   "source": [
    "#mode\n",
    "df['age'].mode()"
   ]
  },
  {
   "cell_type": "code",
   "execution_count": 7,
   "metadata": {},
   "outputs": [
    {
     "data": {
      "text/plain": [
       "41.0"
      ]
     },
     "execution_count": 7,
     "metadata": {},
     "output_type": "execute_result"
    }
   ],
   "source": [
    "#median\n",
    "df['age'].median()"
   ]
  },
  {
   "cell_type": "code",
   "execution_count": 8,
   "metadata": {},
   "outputs": [
    {
     "data": {
      "text/plain": [
       "47.5"
      ]
     },
     "execution_count": 8,
     "metadata": {},
     "output_type": "execute_result"
    }
   ],
   "source": [
    "#mean\n",
    "df['age'].mean()"
   ]
  },
  {
   "cell_type": "code",
   "execution_count": 9,
   "metadata": {},
   "outputs": [
    {
     "data": {
      "text/html": [
       "<div>\n",
       "<style scoped>\n",
       "    .dataframe tbody tr th:only-of-type {\n",
       "        vertical-align: middle;\n",
       "    }\n",
       "\n",
       "    .dataframe tbody tr th {\n",
       "        vertical-align: top;\n",
       "    }\n",
       "\n",
       "    .dataframe thead th {\n",
       "        text-align: right;\n",
       "    }\n",
       "</style>\n",
       "<table border=\"1\" class=\"dataframe\">\n",
       "  <thead>\n",
       "    <tr style=\"text-align: right;\">\n",
       "      <th></th>\n",
       "      <th>name</th>\n",
       "      <th>age</th>\n",
       "    </tr>\n",
       "  </thead>\n",
       "  <tbody>\n",
       "    <tr>\n",
       "      <th>0</th>\n",
       "      <td>P. Lee</td>\n",
       "      <td>34</td>\n",
       "    </tr>\n",
       "    <tr>\n",
       "      <th>1</th>\n",
       "      <td>J. Smith</td>\n",
       "      <td>36</td>\n",
       "    </tr>\n",
       "    <tr>\n",
       "      <th>2</th>\n",
       "      <td>A. Patel</td>\n",
       "      <td>39</td>\n",
       "    </tr>\n",
       "    <tr>\n",
       "      <th>3</th>\n",
       "      <td>D. Trumph</td>\n",
       "      <td>40</td>\n",
       "    </tr>\n",
       "    <tr>\n",
       "      <th>4</th>\n",
       "      <td>R. Jones</td>\n",
       "      <td>41</td>\n",
       "    </tr>\n",
       "    <tr>\n",
       "      <th>5</th>\n",
       "      <td>P. Rice</td>\n",
       "      <td>41</td>\n",
       "    </tr>\n",
       "    <tr>\n",
       "      <th>6</th>\n",
       "      <td>J. Smith</td>\n",
       "      <td>49</td>\n",
       "    </tr>\n",
       "    <tr>\n",
       "      <th>7</th>\n",
       "      <td>N. Cook</td>\n",
       "      <td>56</td>\n",
       "    </tr>\n",
       "    <tr>\n",
       "      <th>8</th>\n",
       "      <td>J. Biden</td>\n",
       "      <td>67</td>\n",
       "    </tr>\n",
       "    <tr>\n",
       "      <th>9</th>\n",
       "      <td>G. George</td>\n",
       "      <td>72</td>\n",
       "    </tr>\n",
       "  </tbody>\n",
       "</table>\n",
       "</div>"
      ],
      "text/plain": [
       "        name  age\n",
       "0     P. Lee   34\n",
       "1   J. Smith   36\n",
       "2   A. Patel   39\n",
       "3  D. Trumph   40\n",
       "4   R. Jones   41\n",
       "5    P. Rice   41\n",
       "6   J. Smith   49\n",
       "7    N. Cook   56\n",
       "8   J. Biden   67\n",
       "9  G. George   72"
      ]
     },
     "execution_count": 9,
     "metadata": {},
     "output_type": "execute_result"
    }
   ],
   "source": [
    "df = df.sort_values(by=['age'])\n",
    "df.reset_index(drop=True, inplace=True)\n",
    "df"
   ]
  },
  {
   "cell_type": "code",
   "execution_count": 10,
   "metadata": {},
   "outputs": [
    {
     "data": {
      "text/plain": [
       "38"
      ]
     },
     "execution_count": 10,
     "metadata": {},
     "output_type": "execute_result"
    }
   ],
   "source": [
    "#range\n",
    "df['age'].max() - df['age'].min()"
   ]
  },
  {
   "cell_type": "code",
   "execution_count": 11,
   "metadata": {},
   "outputs": [
    {
     "data": {
      "text/plain": [
       "175.83333333333334"
      ]
     },
     "execution_count": 11,
     "metadata": {},
     "output_type": "execute_result"
    }
   ],
   "source": [
    "#variance\n",
    "df['age'].var()"
   ]
  },
  {
   "cell_type": "code",
   "execution_count": 12,
   "metadata": {},
   "outputs": [
    {
     "data": {
      "text/plain": [
       "13.260216187277392"
      ]
     },
     "execution_count": 12,
     "metadata": {},
     "output_type": "execute_result"
    }
   ],
   "source": [
    "df['age'].std() \n",
    "#standard deviation"
   ]
  },
  {
   "cell_type": "code",
   "execution_count": 13,
   "metadata": {},
   "outputs": [
    {
     "data": {
      "text/plain": [
       "34.23978381272261"
      ]
     },
     "execution_count": 13,
     "metadata": {},
     "output_type": "execute_result"
    }
   ],
   "source": [
    "#z-score\n",
    "df['age'].mean() - df['age'].std()\n",
    "\n"
   ]
  },
  {
   "cell_type": "code",
   "execution_count": 14,
   "metadata": {},
   "outputs": [
    {
     "data": {
      "text/plain": [
       "1.0229079866486708"
      ]
     },
     "execution_count": 14,
     "metadata": {},
     "output_type": "execute_result"
    }
   ],
   "source": [
    "#skewness\n",
    "df['age'].skew()"
   ]
  },
  {
   "cell_type": "code",
   "execution_count": 15,
   "metadata": {},
   "outputs": [
    {
     "data": {
      "text/plain": [
       "-0.2959155711429924"
      ]
     },
     "execution_count": 15,
     "metadata": {},
     "output_type": "execute_result"
    }
   ],
   "source": [
    "#kurtosis\n",
    "df['age'].kurt()"
   ]
  },
  {
   "cell_type": "code",
   "execution_count": 16,
   "metadata": {},
   "outputs": [
    {
     "data": {
      "text/plain": [
       "<AxesSubplot: >"
      ]
     },
     "execution_count": 16,
     "metadata": {},
     "output_type": "execute_result"
    },
    {
     "data": {
      "image/png": "[encoded data removed]",
      "text/plain": [
       "<Figure size 640x480 with 1 Axes>"
      ]
     },
     "metadata": {},
     "output_type": "display_data"
    }
   ],
   "source": [
    "#plot\n",
    "df['age'].plot()"
   ]
  },
  {
   "attachments": {},
   "cell_type": "markdown",
   "metadata": {},
   "source": [
    "<h3> PREGUNTA 2 </h3>\n",
    "\n",
    "Given a sample of your data-mining project performs at least three statistics from the sample. Describe in details the procedure. Present the result in a table. This analysis will be added to your document project in the next review*."
   ]
  },
  {
   "cell_type": "code",
   "execution_count": 17,
   "metadata": {},
   "outputs": [],
   "source": [
    "import numpy as np\n",
    "#import pandas as pd\n",
    "import matplotlib.pyplot as plts\n",
    "\n",
    "%matplotlib inline"
   ]
  },
  {
   "cell_type": "code",
   "execution_count": 19,
   "metadata": {},
   "outputs": [],
   "source": [
    "df10 = pd.read_csv('project/DATA/ENS_CLEAN_10.csv', index_col=0)\n",
    "df20 = pd.read_csv('project/DATA/ENS_CLEAN_20.csv', index_col=0)"
   ]
  },
  {
   "cell_type": "code",
   "execution_count": 20,
   "metadata": {},
   "outputs": [
    {
     "data": {
      "text/html": [
       "<div>\n",
       "<style scoped>\n",
       "    .dataframe tbody tr th:only-of-type {\n",
       "        vertical-align: middle;\n",
       "    }\n",
       "\n",
       "    .dataframe tbody tr th {\n",
       "        vertical-align: top;\n",
       "    }\n",
       "\n",
       "    .dataframe thead th {\n",
       "        text-align: right;\n",
       "    }\n",
       "</style>\n",
       "<table border=\"1\" class=\"dataframe\">\n",
       "  <thead>\n",
       "    <tr style=\"text-align: right;\">\n",
       "      <th></th>\n",
       "      <th>index</th>\n",
       "      <th>NOM_MUN</th>\n",
       "      <th>LOC</th>\n",
       "      <th>NOM_LOC</th>\n",
       "      <th>AGEB</th>\n",
       "      <th>MZA</th>\n",
       "      <th>P_TOTAL</th>\n",
       "      <th>P_0A2</th>\n",
       "      <th>P_3A5</th>\n",
       "      <th>POB65_MAS</th>\n",
       "      <th>GRAPROES</th>\n",
       "      <th>PROM_HNV</th>\n",
       "      <th>VIVTOT</th>\n",
       "      <th>PRO_OCUP_C</th>\n",
       "      <th>PROM_OCUP</th>\n",
       "      <th>VPH_PC</th>\n",
       "      <th>OTRAENT</th>\n",
       "    </tr>\n",
       "  </thead>\n",
       "  <tbody>\n",
       "    <tr>\n",
       "      <th>0</th>\n",
       "      <td>4</td>\n",
       "      <td>Ensenada</td>\n",
       "      <td>1</td>\n",
       "      <td>Ensenada</td>\n",
       "      <td>0435</td>\n",
       "      <td>1</td>\n",
       "      <td>48.0</td>\n",
       "      <td>3.0</td>\n",
       "      <td>3.0</td>\n",
       "      <td>4.0</td>\n",
       "      <td>8.31</td>\n",
       "      <td>2.50</td>\n",
       "      <td>15.0</td>\n",
       "      <td>1.02</td>\n",
       "      <td>3.43</td>\n",
       "      <td>7.0</td>\n",
       "      <td>16.0</td>\n",
       "    </tr>\n",
       "    <tr>\n",
       "      <th>1</th>\n",
       "      <td>5</td>\n",
       "      <td>Ensenada</td>\n",
       "      <td>1</td>\n",
       "      <td>Ensenada</td>\n",
       "      <td>0435</td>\n",
       "      <td>3</td>\n",
       "      <td>41.0</td>\n",
       "      <td>3.0</td>\n",
       "      <td>0.0</td>\n",
       "      <td>6.0</td>\n",
       "      <td>9.48</td>\n",
       "      <td>2.40</td>\n",
       "      <td>16.0</td>\n",
       "      <td>0.85</td>\n",
       "      <td>3.15</td>\n",
       "      <td>4.0</td>\n",
       "      <td>16.0</td>\n",
       "    </tr>\n",
       "    <tr>\n",
       "      <th>2</th>\n",
       "      <td>6</td>\n",
       "      <td>Ensenada</td>\n",
       "      <td>1</td>\n",
       "      <td>Ensenada</td>\n",
       "      <td>0435</td>\n",
       "      <td>4</td>\n",
       "      <td>41.0</td>\n",
       "      <td>3.0</td>\n",
       "      <td>0.0</td>\n",
       "      <td>4.0</td>\n",
       "      <td>10.29</td>\n",
       "      <td>1.88</td>\n",
       "      <td>11.0</td>\n",
       "      <td>0.87</td>\n",
       "      <td>4.10</td>\n",
       "      <td>7.0</td>\n",
       "      <td>16.0</td>\n",
       "    </tr>\n",
       "    <tr>\n",
       "      <th>3</th>\n",
       "      <td>7</td>\n",
       "      <td>Ensenada</td>\n",
       "      <td>1</td>\n",
       "      <td>Ensenada</td>\n",
       "      <td>0435</td>\n",
       "      <td>6</td>\n",
       "      <td>54.0</td>\n",
       "      <td>3.0</td>\n",
       "      <td>0.0</td>\n",
       "      <td>4.0</td>\n",
       "      <td>10.24</td>\n",
       "      <td>1.82</td>\n",
       "      <td>23.0</td>\n",
       "      <td>0.72</td>\n",
       "      <td>3.18</td>\n",
       "      <td>10.0</td>\n",
       "      <td>17.0</td>\n",
       "    </tr>\n",
       "    <tr>\n",
       "      <th>4</th>\n",
       "      <td>8</td>\n",
       "      <td>Ensenada</td>\n",
       "      <td>1</td>\n",
       "      <td>Ensenada</td>\n",
       "      <td>0435</td>\n",
       "      <td>7</td>\n",
       "      <td>54.0</td>\n",
       "      <td>3.0</td>\n",
       "      <td>3.0</td>\n",
       "      <td>7.0</td>\n",
       "      <td>9.85</td>\n",
       "      <td>2.33</td>\n",
       "      <td>17.0</td>\n",
       "      <td>0.78</td>\n",
       "      <td>3.38</td>\n",
       "      <td>7.0</td>\n",
       "      <td>18.0</td>\n",
       "    </tr>\n",
       "  </tbody>\n",
       "</table>\n",
       "</div>"
      ],
      "text/plain": [
       "   index   NOM_MUN  LOC   NOM_LOC  AGEB  MZA  P_TOTAL  P_0A2  P_3A5  \\\n",
       "0      4  Ensenada    1  Ensenada  0435    1     48.0    3.0    3.0   \n",
       "1      5  Ensenada    1  Ensenada  0435    3     41.0    3.0    0.0   \n",
       "2      6  Ensenada    1  Ensenada  0435    4     41.0    3.0    0.0   \n",
       "3      7  Ensenada    1  Ensenada  0435    6     54.0    3.0    0.0   \n",
       "4      8  Ensenada    1  Ensenada  0435    7     54.0    3.0    3.0   \n",
       "\n",
       "   POB65_MAS  GRAPROES  PROM_HNV  VIVTOT  PRO_OCUP_C  PROM_OCUP  VPH_PC  \\\n",
       "0        4.0      8.31      2.50    15.0        1.02       3.43     7.0   \n",
       "1        6.0      9.48      2.40    16.0        0.85       3.15     4.0   \n",
       "2        4.0     10.29      1.88    11.0        0.87       4.10     7.0   \n",
       "3        4.0     10.24      1.82    23.0        0.72       3.18    10.0   \n",
       "4        7.0      9.85      2.33    17.0        0.78       3.38     7.0   \n",
       "\n",
       "   OTRAENT  \n",
       "0     16.0  \n",
       "1     16.0  \n",
       "2     16.0  \n",
       "3     17.0  \n",
       "4     18.0  "
      ]
     },
     "execution_count": 20,
     "metadata": {},
     "output_type": "execute_result"
    }
   ],
   "source": [
    "df10.head()"
   ]
  },
  {
   "cell_type": "code",
   "execution_count": 21,
   "metadata": {},
   "outputs": [
    {
     "data": {
      "text/html": [
       "<div>\n",
       "<style scoped>\n",
       "    .dataframe tbody tr th:only-of-type {\n",
       "        vertical-align: middle;\n",
       "    }\n",
       "\n",
       "    .dataframe tbody tr th {\n",
       "        vertical-align: top;\n",
       "    }\n",
       "\n",
       "    .dataframe thead th {\n",
       "        text-align: right;\n",
       "    }\n",
       "</style>\n",
       "<table border=\"1\" class=\"dataframe\">\n",
       "  <thead>\n",
       "    <tr style=\"text-align: right;\">\n",
       "      <th></th>\n",
       "      <th>index</th>\n",
       "      <th>NOM_MUN</th>\n",
       "      <th>LOC</th>\n",
       "      <th>NOM_LOC</th>\n",
       "      <th>AGEB</th>\n",
       "      <th>MZA</th>\n",
       "      <th>P_TOTAL</th>\n",
       "      <th>P_0A2</th>\n",
       "      <th>P_3A5</th>\n",
       "      <th>POB65_MAS</th>\n",
       "      <th>GRAPROES</th>\n",
       "      <th>PROM_HNV</th>\n",
       "      <th>VIVTOT</th>\n",
       "      <th>PRO_OCUP_C</th>\n",
       "      <th>PROM_OCUP</th>\n",
       "      <th>VPH_PC</th>\n",
       "      <th>OTRAENT</th>\n",
       "    </tr>\n",
       "  </thead>\n",
       "  <tbody>\n",
       "    <tr>\n",
       "      <th>0</th>\n",
       "      <td>4</td>\n",
       "      <td>Ensenada</td>\n",
       "      <td>1</td>\n",
       "      <td>Ensenada</td>\n",
       "      <td>0026</td>\n",
       "      <td>1</td>\n",
       "      <td>11.0</td>\n",
       "      <td>0.0</td>\n",
       "      <td>0.0</td>\n",
       "      <td>0.0</td>\n",
       "      <td>9.20</td>\n",
       "      <td>1.00</td>\n",
       "      <td>4.0</td>\n",
       "      <td>0.55</td>\n",
       "      <td>2.75</td>\n",
       "      <td>9.0</td>\n",
       "      <td>26.0</td>\n",
       "    </tr>\n",
       "    <tr>\n",
       "      <th>1</th>\n",
       "      <td>5</td>\n",
       "      <td>Ensenada</td>\n",
       "      <td>1</td>\n",
       "      <td>Ensenada</td>\n",
       "      <td>0026</td>\n",
       "      <td>2</td>\n",
       "      <td>42.0</td>\n",
       "      <td>0.0</td>\n",
       "      <td>0.0</td>\n",
       "      <td>8.0</td>\n",
       "      <td>8.43</td>\n",
       "      <td>2.50</td>\n",
       "      <td>19.0</td>\n",
       "      <td>0.91</td>\n",
       "      <td>2.63</td>\n",
       "      <td>9.0</td>\n",
       "      <td>26.0</td>\n",
       "    </tr>\n",
       "    <tr>\n",
       "      <th>2</th>\n",
       "      <td>6</td>\n",
       "      <td>Ensenada</td>\n",
       "      <td>1</td>\n",
       "      <td>Ensenada</td>\n",
       "      <td>0026</td>\n",
       "      <td>3</td>\n",
       "      <td>11.0</td>\n",
       "      <td>0.0</td>\n",
       "      <td>0.0</td>\n",
       "      <td>8.0</td>\n",
       "      <td>9.13</td>\n",
       "      <td>4.33</td>\n",
       "      <td>3.0</td>\n",
       "      <td>1.57</td>\n",
       "      <td>3.67</td>\n",
       "      <td>9.0</td>\n",
       "      <td>5.0</td>\n",
       "    </tr>\n",
       "    <tr>\n",
       "      <th>3</th>\n",
       "      <td>8</td>\n",
       "      <td>Ensenada</td>\n",
       "      <td>1</td>\n",
       "      <td>Ensenada</td>\n",
       "      <td>0030</td>\n",
       "      <td>1</td>\n",
       "      <td>21.0</td>\n",
       "      <td>0.0</td>\n",
       "      <td>0.0</td>\n",
       "      <td>8.0</td>\n",
       "      <td>15.89</td>\n",
       "      <td>0.80</td>\n",
       "      <td>17.0</td>\n",
       "      <td>0.54</td>\n",
       "      <td>2.10</td>\n",
       "      <td>9.0</td>\n",
       "      <td>7.0</td>\n",
       "    </tr>\n",
       "    <tr>\n",
       "      <th>4</th>\n",
       "      <td>9</td>\n",
       "      <td>Ensenada</td>\n",
       "      <td>1</td>\n",
       "      <td>Ensenada</td>\n",
       "      <td>0030</td>\n",
       "      <td>2</td>\n",
       "      <td>11.0</td>\n",
       "      <td>0.0</td>\n",
       "      <td>0.0</td>\n",
       "      <td>0.0</td>\n",
       "      <td>16.75</td>\n",
       "      <td>1.50</td>\n",
       "      <td>8.0</td>\n",
       "      <td>0.48</td>\n",
       "      <td>2.20</td>\n",
       "      <td>4.0</td>\n",
       "      <td>8.0</td>\n",
       "    </tr>\n",
       "  </tbody>\n",
       "</table>\n",
       "</div>"
      ],
      "text/plain": [
       "   index   NOM_MUN  LOC   NOM_LOC  AGEB  MZA  P_TOTAL  P_0A2  P_3A5  \\\n",
       "0      4  Ensenada    1  Ensenada  0026    1     11.0    0.0    0.0   \n",
       "1      5  Ensenada    1  Ensenada  0026    2     42.0    0.0    0.0   \n",
       "2      6  Ensenada    1  Ensenada  0026    3     11.0    0.0    0.0   \n",
       "3      8  Ensenada    1  Ensenada  0030    1     21.0    0.0    0.0   \n",
       "4      9  Ensenada    1  Ensenada  0030    2     11.0    0.0    0.0   \n",
       "\n",
       "   POB65_MAS  GRAPROES  PROM_HNV  VIVTOT  PRO_OCUP_C  PROM_OCUP  VPH_PC  \\\n",
       "0        0.0      9.20      1.00     4.0        0.55       2.75     9.0   \n",
       "1        8.0      8.43      2.50    19.0        0.91       2.63     9.0   \n",
       "2        8.0      9.13      4.33     3.0        1.57       3.67     9.0   \n",
       "3        8.0     15.89      0.80    17.0        0.54       2.10     9.0   \n",
       "4        0.0     16.75      1.50     8.0        0.48       2.20     4.0   \n",
       "\n",
       "   OTRAENT  \n",
       "0     26.0  \n",
       "1     26.0  \n",
       "2      5.0  \n",
       "3      7.0  \n",
       "4      8.0  "
      ]
     },
     "execution_count": 21,
     "metadata": {},
     "output_type": "execute_result"
    }
   ],
   "source": [
    "df20.head()"
   ]
  },
  {
   "cell_type": "code",
   "execution_count": 34,
   "metadata": {},
   "outputs": [
    {
     "data": {
      "text/html": [
       "<div>\n",
       "<style scoped>\n",
       "    .dataframe tbody tr th:only-of-type {\n",
       "        vertical-align: middle;\n",
       "    }\n",
       "\n",
       "    .dataframe tbody tr th {\n",
       "        vertical-align: top;\n",
       "    }\n",
       "\n",
       "    .dataframe thead th {\n",
       "        text-align: right;\n",
       "    }\n",
       "</style>\n",
       "<table border=\"1\" class=\"dataframe\">\n",
       "  <thead>\n",
       "    <tr style=\"text-align: right;\">\n",
       "      <th></th>\n",
       "      <th>index</th>\n",
       "      <th>LOC</th>\n",
       "      <th>MZA</th>\n",
       "      <th>P_TOTAL</th>\n",
       "      <th>P_0A2</th>\n",
       "      <th>P_3A5</th>\n",
       "      <th>POB65_MAS</th>\n",
       "      <th>GRAPROES</th>\n",
       "      <th>PROM_HNV</th>\n",
       "      <th>VIVTOT</th>\n",
       "      <th>PRO_OCUP_C</th>\n",
       "      <th>PROM_OCUP</th>\n",
       "      <th>VPH_PC</th>\n",
       "      <th>OTRAENT</th>\n",
       "    </tr>\n",
       "  </thead>\n",
       "  <tbody>\n",
       "    <tr>\n",
       "      <th>count</th>\n",
       "      <td>5255.000000</td>\n",
       "      <td>5255.0</td>\n",
       "      <td>5255.000000</td>\n",
       "      <td>5255.000000</td>\n",
       "      <td>5255.000000</td>\n",
       "      <td>5255.000000</td>\n",
       "      <td>5255.000000</td>\n",
       "      <td>5255.000000</td>\n",
       "      <td>5255.000000</td>\n",
       "      <td>5255.000000</td>\n",
       "      <td>5255.000000</td>\n",
       "      <td>5255.000000</td>\n",
       "      <td>5255.000000</td>\n",
       "      <td>5255.000000</td>\n",
       "    </tr>\n",
       "    <tr>\n",
       "      <th>mean</th>\n",
       "      <td>2723.169553</td>\n",
       "      <td>1.0</td>\n",
       "      <td>22.216936</td>\n",
       "      <td>53.237869</td>\n",
       "      <td>2.970695</td>\n",
       "      <td>3.221694</td>\n",
       "      <td>3.343292</td>\n",
       "      <td>8.895966</td>\n",
       "      <td>1.822141</td>\n",
       "      <td>19.150143</td>\n",
       "      <td>0.825083</td>\n",
       "      <td>3.037439</td>\n",
       "      <td>8.396004</td>\n",
       "      <td>20.534348</td>\n",
       "    </tr>\n",
       "    <tr>\n",
       "      <th>std</th>\n",
       "      <td>1571.823135</td>\n",
       "      <td>0.0</td>\n",
       "      <td>16.461110</td>\n",
       "      <td>68.790277</td>\n",
       "      <td>3.796385</td>\n",
       "      <td>4.020615</td>\n",
       "      <td>4.587115</td>\n",
       "      <td>3.796961</td>\n",
       "      <td>0.882290</td>\n",
       "      <td>19.594114</td>\n",
       "      <td>0.513981</td>\n",
       "      <td>1.248379</td>\n",
       "      <td>9.877099</td>\n",
       "      <td>21.613246</td>\n",
       "    </tr>\n",
       "    <tr>\n",
       "      <th>min</th>\n",
       "      <td>4.000000</td>\n",
       "      <td>1.0</td>\n",
       "      <td>1.000000</td>\n",
       "      <td>0.000000</td>\n",
       "      <td>0.000000</td>\n",
       "      <td>0.000000</td>\n",
       "      <td>0.000000</td>\n",
       "      <td>0.000000</td>\n",
       "      <td>0.000000</td>\n",
       "      <td>0.000000</td>\n",
       "      <td>0.000000</td>\n",
       "      <td>0.000000</td>\n",
       "      <td>0.000000</td>\n",
       "      <td>0.000000</td>\n",
       "    </tr>\n",
       "    <tr>\n",
       "      <th>25%</th>\n",
       "      <td>1353.500000</td>\n",
       "      <td>1.0</td>\n",
       "      <td>9.000000</td>\n",
       "      <td>16.000000</td>\n",
       "      <td>0.000000</td>\n",
       "      <td>0.000000</td>\n",
       "      <td>0.000000</td>\n",
       "      <td>7.890000</td>\n",
       "      <td>1.490000</td>\n",
       "      <td>6.000000</td>\n",
       "      <td>0.630000</td>\n",
       "      <td>2.805000</td>\n",
       "      <td>3.000000</td>\n",
       "      <td>7.000000</td>\n",
       "    </tr>\n",
       "    <tr>\n",
       "      <th>50%</th>\n",
       "      <td>2732.000000</td>\n",
       "      <td>1.0</td>\n",
       "      <td>19.000000</td>\n",
       "      <td>41.000000</td>\n",
       "      <td>3.000000</td>\n",
       "      <td>3.000000</td>\n",
       "      <td>3.000000</td>\n",
       "      <td>9.530000</td>\n",
       "      <td>1.900000</td>\n",
       "      <td>15.000000</td>\n",
       "      <td>0.820000</td>\n",
       "      <td>3.330000</td>\n",
       "      <td>6.000000</td>\n",
       "      <td>15.000000</td>\n",
       "    </tr>\n",
       "    <tr>\n",
       "      <th>75%</th>\n",
       "      <td>4078.500000</td>\n",
       "      <td>1.0</td>\n",
       "      <td>32.000000</td>\n",
       "      <td>72.000000</td>\n",
       "      <td>5.000000</td>\n",
       "      <td>5.000000</td>\n",
       "      <td>5.000000</td>\n",
       "      <td>11.170000</td>\n",
       "      <td>2.330000</td>\n",
       "      <td>26.000000</td>\n",
       "      <td>1.050000</td>\n",
       "      <td>3.760000</td>\n",
       "      <td>11.000000</td>\n",
       "      <td>28.000000</td>\n",
       "    </tr>\n",
       "    <tr>\n",
       "      <th>max</th>\n",
       "      <td>5447.000000</td>\n",
       "      <td>1.0</td>\n",
       "      <td>100.000000</td>\n",
       "      <td>3018.000000</td>\n",
       "      <td>71.000000</td>\n",
       "      <td>58.000000</td>\n",
       "      <td>55.000000</td>\n",
       "      <td>17.000000</td>\n",
       "      <td>8.000000</td>\n",
       "      <td>360.000000</td>\n",
       "      <td>15.000000</td>\n",
       "      <td>7.600000</td>\n",
       "      <td>245.000000</td>\n",
       "      <td>362.000000</td>\n",
       "    </tr>\n",
       "  </tbody>\n",
       "</table>\n",
       "</div>"
      ],
      "text/plain": [
       "             index     LOC          MZA      P_TOTAL        P_0A2  \\\n",
       "count  5255.000000  5255.0  5255.000000  5255.000000  5255.000000   \n",
       "mean   2723.169553     1.0    22.216936    53.237869     2.970695   \n",
       "std    1571.823135     0.0    16.461110    68.790277     3.796385   \n",
       "min       4.000000     1.0     1.000000     0.000000     0.000000   \n",
       "25%    1353.500000     1.0     9.000000    16.000000     0.000000   \n",
       "50%    2732.000000     1.0    19.000000    41.000000     3.000000   \n",
       "75%    4078.500000     1.0    32.000000    72.000000     5.000000   \n",
       "max    5447.000000     1.0   100.000000  3018.000000    71.000000   \n",
       "\n",
       "             P_3A5    POB65_MAS     GRAPROES     PROM_HNV       VIVTOT  \\\n",
       "count  5255.000000  5255.000000  5255.000000  5255.000000  5255.000000   \n",
       "mean      3.221694     3.343292     8.895966     1.822141    19.150143   \n",
       "std       4.020615     4.587115     3.796961     0.882290    19.594114   \n",
       "min       0.000000     0.000000     0.000000     0.000000     0.000000   \n",
       "25%       0.000000     0.000000     7.890000     1.490000     6.000000   \n",
       "50%       3.000000     3.000000     9.530000     1.900000    15.000000   \n",
       "75%       5.000000     5.000000    11.170000     2.330000    26.000000   \n",
       "max      58.000000    55.000000    17.000000     8.000000   360.000000   \n",
       "\n",
       "        PRO_OCUP_C    PROM_OCUP       VPH_PC      OTRAENT  \n",
       "count  5255.000000  5255.000000  5255.000000  5255.000000  \n",
       "mean      0.825083     3.037439     8.396004    20.534348  \n",
       "std       0.513981     1.248379     9.877099    21.613246  \n",
       "min       0.000000     0.000000     0.000000     0.000000  \n",
       "25%       0.630000     2.805000     3.000000     7.000000  \n",
       "50%       0.820000     3.330000     6.000000    15.000000  \n",
       "75%       1.050000     3.760000    11.000000    28.000000  \n",
       "max      15.000000     7.600000   245.000000   362.000000  "
      ]
     },
     "execution_count": 34,
     "metadata": {},
     "output_type": "execute_result"
    }
   ],
   "source": [
    "df10.describe()"
   ]
  },
  {
   "cell_type": "code",
   "execution_count": 35,
   "metadata": {},
   "outputs": [
    {
     "data": {
      "text/html": [
       "<div>\n",
       "<style scoped>\n",
       "    .dataframe tbody tr th:only-of-type {\n",
       "        vertical-align: middle;\n",
       "    }\n",
       "\n",
       "    .dataframe tbody tr th {\n",
       "        vertical-align: top;\n",
       "    }\n",
       "\n",
       "    .dataframe thead th {\n",
       "        text-align: right;\n",
       "    }\n",
       "</style>\n",
       "<table border=\"1\" class=\"dataframe\">\n",
       "  <thead>\n",
       "    <tr style=\"text-align: right;\">\n",
       "      <th></th>\n",
       "      <th>index</th>\n",
       "      <th>LOC</th>\n",
       "      <th>MZA</th>\n",
       "      <th>P_TOTAL</th>\n",
       "      <th>P_0A2</th>\n",
       "      <th>P_3A5</th>\n",
       "      <th>POB65_MAS</th>\n",
       "      <th>GRAPROES</th>\n",
       "      <th>PROM_HNV</th>\n",
       "      <th>VIVTOT</th>\n",
       "      <th>PRO_OCUP_C</th>\n",
       "      <th>PROM_OCUP</th>\n",
       "      <th>VPH_PC</th>\n",
       "      <th>OTRAENT</th>\n",
       "    </tr>\n",
       "  </thead>\n",
       "  <tbody>\n",
       "    <tr>\n",
       "      <th>count</th>\n",
       "      <td>5987.000000</td>\n",
       "      <td>5987.0</td>\n",
       "      <td>5987.000000</td>\n",
       "      <td>5987.000000</td>\n",
       "      <td>5987.000000</td>\n",
       "      <td>5987.000000</td>\n",
       "      <td>5987.000000</td>\n",
       "      <td>5987.000000</td>\n",
       "      <td>5987.000000</td>\n",
       "      <td>5987.000000</td>\n",
       "      <td>5987.000000</td>\n",
       "      <td>5987.000000</td>\n",
       "      <td>5987.000000</td>\n",
       "      <td>5987.000000</td>\n",
       "    </tr>\n",
       "    <tr>\n",
       "      <th>mean</th>\n",
       "      <td>3117.732587</td>\n",
       "      <td>1.0</td>\n",
       "      <td>22.241857</td>\n",
       "      <td>55.213295</td>\n",
       "      <td>2.525806</td>\n",
       "      <td>2.902288</td>\n",
       "      <td>5.107232</td>\n",
       "      <td>9.911146</td>\n",
       "      <td>1.706469</td>\n",
       "      <td>20.240521</td>\n",
       "      <td>0.781436</td>\n",
       "      <td>2.827069</td>\n",
       "      <td>10.577752</td>\n",
       "      <td>20.165525</td>\n",
       "    </tr>\n",
       "    <tr>\n",
       "      <th>std</th>\n",
       "      <td>1796.685032</td>\n",
       "      <td>0.0</td>\n",
       "      <td>16.416022</td>\n",
       "      <td>60.109043</td>\n",
       "      <td>3.444049</td>\n",
       "      <td>3.760848</td>\n",
       "      <td>6.341690</td>\n",
       "      <td>3.685937</td>\n",
       "      <td>0.779999</td>\n",
       "      <td>20.720733</td>\n",
       "      <td>0.353798</td>\n",
       "      <td>1.072077</td>\n",
       "      <td>11.770047</td>\n",
       "      <td>23.501331</td>\n",
       "    </tr>\n",
       "    <tr>\n",
       "      <th>min</th>\n",
       "      <td>4.000000</td>\n",
       "      <td>1.0</td>\n",
       "      <td>1.000000</td>\n",
       "      <td>0.000000</td>\n",
       "      <td>0.000000</td>\n",
       "      <td>0.000000</td>\n",
       "      <td>0.000000</td>\n",
       "      <td>0.000000</td>\n",
       "      <td>0.000000</td>\n",
       "      <td>0.000000</td>\n",
       "      <td>0.000000</td>\n",
       "      <td>0.000000</td>\n",
       "      <td>0.000000</td>\n",
       "      <td>0.000000</td>\n",
       "    </tr>\n",
       "    <tr>\n",
       "      <th>25%</th>\n",
       "      <td>1553.500000</td>\n",
       "      <td>1.0</td>\n",
       "      <td>9.000000</td>\n",
       "      <td>17.000000</td>\n",
       "      <td>0.000000</td>\n",
       "      <td>0.000000</td>\n",
       "      <td>0.000000</td>\n",
       "      <td>9.050000</td>\n",
       "      <td>1.420000</td>\n",
       "      <td>7.000000</td>\n",
       "      <td>0.620000</td>\n",
       "      <td>2.570000</td>\n",
       "      <td>4.000000</td>\n",
       "      <td>7.000000</td>\n",
       "    </tr>\n",
       "    <tr>\n",
       "      <th>50%</th>\n",
       "      <td>3131.000000</td>\n",
       "      <td>1.0</td>\n",
       "      <td>19.000000</td>\n",
       "      <td>41.000000</td>\n",
       "      <td>0.000000</td>\n",
       "      <td>3.000000</td>\n",
       "      <td>4.000000</td>\n",
       "      <td>10.500000</td>\n",
       "      <td>1.760000</td>\n",
       "      <td>16.000000</td>\n",
       "      <td>0.800000</td>\n",
       "      <td>3.020000</td>\n",
       "      <td>8.000000</td>\n",
       "      <td>15.000000</td>\n",
       "    </tr>\n",
       "    <tr>\n",
       "      <th>75%</th>\n",
       "      <td>4668.500000</td>\n",
       "      <td>1.0</td>\n",
       "      <td>32.000000</td>\n",
       "      <td>75.000000</td>\n",
       "      <td>4.000000</td>\n",
       "      <td>4.000000</td>\n",
       "      <td>7.000000</td>\n",
       "      <td>12.030000</td>\n",
       "      <td>2.110000</td>\n",
       "      <td>27.000000</td>\n",
       "      <td>1.000000</td>\n",
       "      <td>3.430000</td>\n",
       "      <td>14.000000</td>\n",
       "      <td>26.000000</td>\n",
       "    </tr>\n",
       "    <tr>\n",
       "      <th>max</th>\n",
       "      <td>6229.000000</td>\n",
       "      <td>1.0</td>\n",
       "      <td>102.000000</td>\n",
       "      <td>1165.000000</td>\n",
       "      <td>46.000000</td>\n",
       "      <td>49.000000</td>\n",
       "      <td>91.000000</td>\n",
       "      <td>18.000000</td>\n",
       "      <td>6.750000</td>\n",
       "      <td>364.000000</td>\n",
       "      <td>2.400000</td>\n",
       "      <td>6.670000</td>\n",
       "      <td>259.000000</td>\n",
       "      <td>528.000000</td>\n",
       "    </tr>\n",
       "  </tbody>\n",
       "</table>\n",
       "</div>"
      ],
      "text/plain": [
       "             index     LOC          MZA      P_TOTAL        P_0A2  \\\n",
       "count  5987.000000  5987.0  5987.000000  5987.000000  5987.000000   \n",
       "mean   3117.732587     1.0    22.241857    55.213295     2.525806   \n",
       "std    1796.685032     0.0    16.416022    60.109043     3.444049   \n",
       "min       4.000000     1.0     1.000000     0.000000     0.000000   \n",
       "25%    1553.500000     1.0     9.000000    17.000000     0.000000   \n",
       "50%    3131.000000     1.0    19.000000    41.000000     0.000000   \n",
       "75%    4668.500000     1.0    32.000000    75.000000     4.000000   \n",
       "max    6229.000000     1.0   102.000000  1165.000000    46.000000   \n",
       "\n",
       "             P_3A5    POB65_MAS     GRAPROES     PROM_HNV       VIVTOT  \\\n",
       "count  5987.000000  5987.000000  5987.000000  5987.000000  5987.000000   \n",
       "mean      2.902288     5.107232     9.911146     1.706469    20.240521   \n",
       "std       3.760848     6.341690     3.685937     0.779999    20.720733   \n",
       "min       0.000000     0.000000     0.000000     0.000000     0.000000   \n",
       "25%       0.000000     0.000000     9.050000     1.420000     7.000000   \n",
       "50%       3.000000     4.000000    10.500000     1.760000    16.000000   \n",
       "75%       4.000000     7.000000    12.030000     2.110000    27.000000   \n",
       "max      49.000000    91.000000    18.000000     6.750000   364.000000   \n",
       "\n",
       "        PRO_OCUP_C    PROM_OCUP       VPH_PC      OTRAENT  \n",
       "count  5987.000000  5987.000000  5987.000000  5987.000000  \n",
       "mean      0.781436     2.827069    10.577752    20.165525  \n",
       "std       0.353798     1.072077    11.770047    23.501331  \n",
       "min       0.000000     0.000000     0.000000     0.000000  \n",
       "25%       0.620000     2.570000     4.000000     7.000000  \n",
       "50%       0.800000     3.020000     8.000000    15.000000  \n",
       "75%       1.000000     3.430000    14.000000    26.000000  \n",
       "max       2.400000     6.670000   259.000000   528.000000  "
      ]
     },
     "execution_count": 35,
     "metadata": {},
     "output_type": "execute_result"
    }
   ],
   "source": [
    "df20.describe()"
   ]
  },
  {
   "attachments": {},
   "cell_type": "markdown",
   "metadata": {},
   "source": [
    "<h3>GRAPROES = grado de escolaridad promedio por manzana </h3>"
   ]
  },
  {
   "attachments": {},
   "cell_type": "markdown",
   "metadata": {},
   "source": [
    "<h4>RANGO</h4>"
   ]
  },
  {
   "attachments": {},
   "cell_type": "markdown",
   "metadata": {},
   "source": [
    "2010"
   ]
  },
  {
   "cell_type": "code",
   "execution_count": 38,
   "metadata": {},
   "outputs": [
    {
     "name": "stdout",
     "output_type": "stream",
     "text": [
      "GRAPROESMax:  17.0\n",
      "GRAPROESMin:  0.0\n"
     ]
    }
   ],
   "source": [
    "print(\"GRAPROESMax: \", df10['GRAPROES'].max())\n",
    "print(\"GRAPROESMin: \", df10['GRAPROES'].min())"
   ]
  },
  {
   "cell_type": "code",
   "execution_count": 39,
   "metadata": {},
   "outputs": [
    {
     "data": {
      "text/plain": [
       "17.0"
      ]
     },
     "execution_count": 39,
     "metadata": {},
     "output_type": "execute_result"
    }
   ],
   "source": [
    "df10['GRAPROES'].max() - df10['GRAPROES'].min()"
   ]
  },
  {
   "attachments": {},
   "cell_type": "markdown",
   "metadata": {},
   "source": [
    "2020"
   ]
  },
  {
   "cell_type": "code",
   "execution_count": 40,
   "metadata": {},
   "outputs": [
    {
     "name": "stdout",
     "output_type": "stream",
     "text": [
      "GRAPROESMax:  18.0\n",
      "GRAPROESMin:  0.0\n"
     ]
    }
   ],
   "source": [
    "print(\"GRAPROESMax: \", df20['GRAPROES'].max())\n",
    "print(\"GRAPROESMin: \", df20['GRAPROES'].min())"
   ]
  },
  {
   "cell_type": "code",
   "execution_count": 42,
   "metadata": {},
   "outputs": [
    {
     "data": {
      "text/plain": [
       "18.0"
      ]
     },
     "execution_count": 42,
     "metadata": {},
     "output_type": "execute_result"
    }
   ],
   "source": [
    "df20['GRAPROES'].max() - df20['GRAPROES'].min()"
   ]
  },
  {
   "attachments": {},
   "cell_type": "markdown",
   "metadata": {},
   "source": [
    "<h4>MEDIA</h4>"
   ]
  },
  {
   "cell_type": "code",
   "execution_count": 43,
   "metadata": {},
   "outputs": [
    {
     "data": {
      "text/plain": [
       "8.895965746907706"
      ]
     },
     "execution_count": 43,
     "metadata": {},
     "output_type": "execute_result"
    }
   ],
   "source": [
    "df10['GRAPROES'].mean()"
   ]
  },
  {
   "cell_type": "code",
   "execution_count": 44,
   "metadata": {},
   "outputs": [
    {
     "data": {
      "text/plain": [
       "9.911145815934525"
      ]
     },
     "execution_count": 44,
     "metadata": {},
     "output_type": "execute_result"
    }
   ],
   "source": [
    "df20['GRAPROES'].mean()"
   ]
  },
  {
   "attachments": {},
   "cell_type": "markdown",
   "metadata": {},
   "source": [
    "<h4>MODA</h4>"
   ]
  },
  {
   "cell_type": "code",
   "execution_count": 45,
   "metadata": {},
   "outputs": [
    {
     "data": {
      "text/plain": [
       "0    0.0\n",
       "Name: GRAPROES, dtype: float64"
      ]
     },
     "execution_count": 45,
     "metadata": {},
     "output_type": "execute_result"
    }
   ],
   "source": [
    "df10['GRAPROES'].mode()"
   ]
  },
  {
   "cell_type": "code",
   "execution_count": 46,
   "metadata": {},
   "outputs": [
    {
     "data": {
      "text/plain": [
       "0    0.0\n",
       "Name: GRAPROES, dtype: float64"
      ]
     },
     "execution_count": 46,
     "metadata": {},
     "output_type": "execute_result"
    }
   ],
   "source": [
    "df20['GRAPROES'].mode()"
   ]
  },
  {
   "attachments": {},
   "cell_type": "markdown",
   "metadata": {},
   "source": [
    "<h4>MEDIANA</h4>"
   ]
  },
  {
   "cell_type": "code",
   "execution_count": 47,
   "metadata": {},
   "outputs": [
    {
     "data": {
      "text/plain": [
       "9.53"
      ]
     },
     "execution_count": 47,
     "metadata": {},
     "output_type": "execute_result"
    }
   ],
   "source": [
    "df10['GRAPROES'].median()"
   ]
  },
  {
   "cell_type": "code",
   "execution_count": 48,
   "metadata": {},
   "outputs": [
    {
     "data": {
      "text/plain": [
       "10.5"
      ]
     },
     "execution_count": 48,
     "metadata": {},
     "output_type": "execute_result"
    }
   ],
   "source": [
    "df20['GRAPROES'].median()"
   ]
  },
  {
   "cell_type": "code",
   "execution_count": null,
   "metadata": {},
   "outputs": [],
   "source": []
  }
 ],
 "metadata": {
  "kernelspec": {
   "display_name": "Python 3",
   "language": "python",
   "name": "python3"
  },
  "language_info": {
   "codemirror_mode": {
    "name": "ipython",
    "version": 3
   },
   "file_extension": ".py",
   "mimetype": "text/x-python",
   "name": "python",
   "nbconvert_exporter": "python",
   "pygments_lexer": "ipython3",
   "version": "3.11.0"
  },
  "orig_nbformat": 4
 },
 "nbformat": 4,
 "nbformat_minor": 2
}
